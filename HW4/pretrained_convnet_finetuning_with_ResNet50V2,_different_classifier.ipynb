{
  "nbformat": 4,
  "nbformat_minor": 0,
  "metadata": {
    "colab": {
      "name": "pretrained_convnet_finetuning with ResNet50V2, different classifier.ipynb",
      "provenance": [],
      "include_colab_link": true
    },
    "kernelspec": {
      "name": "python3",
      "display_name": "Python 3"
    },
    "accelerator": "GPU"
  },
  "cells": [
    {
      "cell_type": "markdown",
      "metadata": {
        "id": "view-in-github",
        "colab_type": "text"
      },
      "source": [
        "<a href=\"https://colab.research.google.com/github/SecondThread/MachineLearningClass/blob/master/HW4/pretrained_convnet_finetuning_with_ResNet50V2%2C_different_classifier.ipynb\" target=\"_parent\"><img src=\"https://colab.research.google.com/assets/colab-badge.svg\" alt=\"Open In Colab\"/></a>"
      ]
    },
    {
      "cell_type": "markdown",
      "metadata": {
        "id": "KSrgMJ5vKFzQ",
        "colab_type": "text"
      },
      "source": [
        "# Fine-tuning ResNet50V2"
      ]
    },
    {
      "cell_type": "markdown",
      "metadata": {
        "id": "TIW7bZaAK-Hf",
        "colab_type": "text"
      },
      "source": [
        "This is based on section 5.3 *Using a pretrained convnet* of the book *Deep learning with Python* by Francois Chollet and on the pretrained_convnent_finetuning document made for this class. I have made several changes to that code.\n",
        "\n",
        "I use ResNet50V2 in this section. Unlike the prvious version, here I chose to add a second layer for my classifier of fewer nodes, and I also added dropout. Unfortunately, neither of these steps were too helpful, and again it looks like I made my model worse after unlocking the 5th convolutional layer for fine-tuning. Anyway, I was able to get a final accuracy of ~95.3% (and an intermediate accuracty of ~97% before unlocking the 5th convolutional layer)."
      ]
    },
    {
      "cell_type": "markdown",
      "metadata": {
        "id": "BqIG8QHMLNOn",
        "colab_type": "text"
      },
      "source": [
        "## Download the data"
      ]
    },
    {
      "cell_type": "markdown",
      "metadata": {
        "id": "t3I1jd7cKV6_",
        "colab_type": "text"
      },
      "source": [
        "Download the example data, a zip. of 2,000 JPG pictures of cats and dogs and extract it locally in ```/tmp```.\n",
        "\n"
      ]
    },
    {
      "cell_type": "code",
      "metadata": {
        "id": "JWjprHEXJ5Qi",
        "colab_type": "code",
        "outputId": "2db7323c-c384-4672-9a10-9a973bf4ed72",
        "colab": {
          "base_uri": "https://localhost:8080/",
          "height": 219
        }
      },
      "source": [
        "!wget --no-check-certificate \\\n",
        "    https://storage.googleapis.com/mledu-datasets/cats_and_dogs_filtered.zip \\\n",
        "    -O /tmp/cats_and_dogs_filtered.zip"
      ],
      "execution_count": 0,
      "outputs": [
        {
          "output_type": "stream",
          "text": [
            "--2020-04-21 04:45:56--  https://storage.googleapis.com/mledu-datasets/cats_and_dogs_filtered.zip\n",
            "Resolving storage.googleapis.com (storage.googleapis.com)... 172.217.14.112, 2607:f8b0:4007:808::2010\n",
            "Connecting to storage.googleapis.com (storage.googleapis.com)|172.217.14.112|:443... connected.\n",
            "HTTP request sent, awaiting response... 200 OK\n",
            "Length: 68606236 (65M) [application/zip]\n",
            "Saving to: ‘/tmp/cats_and_dogs_filtered.zip’\n",
            "\n",
            "/tmp/cats_and_dogs_ 100%[===================>]  65.43M   194MB/s    in 0.3s    \n",
            "\n",
            "2020-04-21 04:45:57 (194 MB/s) - ‘/tmp/cats_and_dogs_filtered.zip’ saved [68606236/68606236]\n",
            "\n"
          ],
          "name": "stdout"
        }
      ]
    },
    {
      "cell_type": "code",
      "metadata": {
        "id": "WvoHtdA-K6Rw",
        "colab_type": "code",
        "colab": {}
      },
      "source": [
        "import os\n",
        "import zipfile\n",
        "\n",
        "local_zip = '/tmp/cats_and_dogs_filtered.zip'\n",
        "zip_ref = zipfile.ZipFile(local_zip, 'r')\n",
        "zip_ref.extractall('/tmp')\n",
        "zip_ref.close()"
      ],
      "execution_count": 0,
      "outputs": []
    },
    {
      "cell_type": "markdown",
      "metadata": {
        "id": "shZiOBnJMyy_",
        "colab_type": "text"
      },
      "source": [
        "Note that the data provided by Google does not have a test set."
      ]
    },
    {
      "cell_type": "code",
      "metadata": {
        "id": "dL8ikM89LlsH",
        "colab_type": "code",
        "colab": {}
      },
      "source": [
        "base_dir = '/tmp/cats_and_dogs_filtered'\n",
        "train_dir = os.path.join(base_dir, 'train')\n",
        "validation_dir = os.path.join(base_dir, 'validation')\n",
        "\n",
        "# Directory with our training cat pictures\n",
        "train_cats_dir = os.path.join(train_dir, 'cats')\n",
        "\n",
        "# Directory with our training dog pictures\n",
        "train_dogs_dir = os.path.join(train_dir, 'dogs')\n",
        "\n",
        "# Directory with our validation cat pictures\n",
        "validation_cats_dir = os.path.join(validation_dir, 'cats')\n",
        "\n",
        "# Directory with our validation dog pictures\n",
        "validation_dogs_dir = os.path.join(validation_dir, 'dogs')"
      ],
      "execution_count": 0,
      "outputs": []
    },
    {
      "cell_type": "markdown",
      "metadata": {
        "id": "inyP8bcdXnn-",
        "colab_type": "text"
      },
      "source": [
        "## Build network with ResNet50V2 convolution base and custom densely connected layers"
      ]
    },
    {
      "cell_type": "markdown",
      "metadata": {
        "id": "kQ48W5T9rHWu",
        "colab_type": "text"
      },
      "source": [
        "### Load the convolutional base"
      ]
    },
    {
      "cell_type": "code",
      "metadata": {
        "id": "Y0FgtANCXm_H",
        "colab_type": "code",
        "outputId": "bffefecf-89f6-46b0-b087-7a2ea708be19",
        "colab": {
          "base_uri": "https://localhost:8080/",
          "height": 72
        }
      },
      "source": [
        "from keras.applications.resnet_v2 import ResNet50V2\n",
        "\n",
        "conv_base = ResNet50V2(\n",
        "    weights='imagenet', \n",
        "    include_top=False, \n",
        "    input_shape=(150, 150, 3))"
      ],
      "execution_count": 0,
      "outputs": [
        {
          "output_type": "stream",
          "text": [
            "Using TensorFlow backend.\n"
          ],
          "name": "stderr"
        },
        {
          "output_type": "stream",
          "text": [
            "Downloading data from https://github.com/keras-team/keras-applications/releases/download/resnet/resnet50v2_weights_tf_dim_ordering_tf_kernels_notop.h5\n",
            "94674944/94668760 [==============================] - 2s 0us/step\n"
          ],
          "name": "stdout"
        }
      ]
    },
    {
      "cell_type": "markdown",
      "metadata": {
        "id": "D6OBHOO9q1ou",
        "colab_type": "text"
      },
      "source": [
        "### Freeze the convolutional base"
      ]
    },
    {
      "cell_type": "code",
      "metadata": {
        "id": "UleRo4Dpq6Ld",
        "colab_type": "code",
        "colab": {}
      },
      "source": [
        "conv_base.trainable = False"
      ],
      "execution_count": 0,
      "outputs": []
    },
    {
      "cell_type": "markdown",
      "metadata": {
        "id": "Qfx6PqhPrb7Q",
        "colab_type": "text"
      },
      "source": [
        "### Concatenate the convolutional base and densely connected layers"
      ]
    },
    {
      "cell_type": "code",
      "metadata": {
        "id": "qUpmocDAO3xm",
        "colab_type": "code",
        "colab": {}
      },
      "source": [
        "from keras import layers\n",
        "from keras import models\n",
        "from keras import optimizers\n",
        "\n",
        "model = models.Sequential()\n",
        "model.add(conv_base)\n",
        "model.add(layers.Flatten())\n",
        "model.add(layers.Dense(256, activation='relu'))\n",
        "model.add(layers.Dropout(0.1))\n",
        "model.add(layers.Dense(128, activation='relu'))\n",
        "model.add(layers.Dropout(0.1))\n",
        "model.add(layers.Dense(1, activation='sigmoid'))"
      ],
      "execution_count": 0,
      "outputs": []
    },
    {
      "cell_type": "code",
      "metadata": {
        "id": "Fh6gZSeAjF7c",
        "colab_type": "code",
        "outputId": "17756bd4-ae18-4172-88d4-a8f897480502",
        "colab": {
          "base_uri": "https://localhost:8080/",
          "height": 421
        }
      },
      "source": [
        "model.summary()"
      ],
      "execution_count": 0,
      "outputs": [
        {
          "output_type": "stream",
          "text": [
            "Model: \"sequential_1\"\n",
            "_________________________________________________________________\n",
            "Layer (type)                 Output Shape              Param #   \n",
            "=================================================================\n",
            "resnet50v2 (Model)           (None, 5, 5, 2048)        23564800  \n",
            "_________________________________________________________________\n",
            "flatten_1 (Flatten)          (None, 51200)             0         \n",
            "_________________________________________________________________\n",
            "dense_1 (Dense)              (None, 256)               13107456  \n",
            "_________________________________________________________________\n",
            "dropout_1 (Dropout)          (None, 256)               0         \n",
            "_________________________________________________________________\n",
            "dense_2 (Dense)              (None, 128)               32896     \n",
            "_________________________________________________________________\n",
            "dropout_2 (Dropout)          (None, 128)               0         \n",
            "_________________________________________________________________\n",
            "dense_3 (Dense)              (None, 1)                 129       \n",
            "=================================================================\n",
            "Total params: 36,705,281\n",
            "Trainable params: 13,140,481\n",
            "Non-trainable params: 23,564,800\n",
            "_________________________________________________________________\n"
          ],
          "name": "stdout"
        }
      ]
    },
    {
      "cell_type": "markdown",
      "metadata": {
        "id": "eZjBiddhi5Qj",
        "colab_type": "text"
      },
      "source": [
        "## Train the model end to end with frozen convolutional base"
      ]
    },
    {
      "cell_type": "code",
      "metadata": {
        "id": "tfAQlC2Oi41L",
        "colab_type": "code",
        "outputId": "78b459b6-f368-43be-8e34-9b840cac55b3",
        "colab": {
          "base_uri": "https://localhost:8080/",
          "height": 1000
        }
      },
      "source": [
        "from keras.preprocessing.image import ImageDataGenerator\n",
        "from keras import optimizers\n",
        "\n",
        "# data augmentation\n",
        "train_datagen = ImageDataGenerator(\n",
        "    rescale=1./255, \n",
        "    rotation_range=40,\n",
        "    width_shift_range=0.2,\n",
        "    height_shift_range=0.2,\n",
        "    shear_range=0.2,\n",
        "    zoom_range=0.2,\n",
        "    horizontal_flip=True,\n",
        "    fill_mode='nearest'\n",
        ")\n",
        "\n",
        "train_generator = train_datagen.flow_from_directory(\n",
        "    train_dir,\n",
        "    target_size=(150, 150),\n",
        "    batch_size=20,\n",
        "    class_mode='binary')\n",
        "\n",
        "validation_datagen = ImageDataGenerator(rescale=1./255)\n",
        "\n",
        "validation_generator = validation_datagen.flow_from_directory(\n",
        "    validation_dir,\n",
        "    target_size=(150, 150),\n",
        "    batch_size=20,\n",
        "    class_mode='binary')\n",
        "\n",
        "# compile model\n",
        "model.compile(\n",
        "    loss='binary_crossentropy', \n",
        "    optimizer=optimizers.RMSprop(lr=2e-5), \n",
        "    metrics=['acc'])\n",
        "\n",
        "# train\n",
        "history = model.fit_generator(\n",
        "    train_generator,\n",
        "    steps_per_epoch=100,\n",
        "    epochs=30,\n",
        "    validation_data=validation_generator,\n",
        "    validation_steps=50\n",
        ")"
      ],
      "execution_count": 0,
      "outputs": [
        {
          "output_type": "stream",
          "text": [
            "Found 2000 images belonging to 2 classes.\n",
            "Found 1000 images belonging to 2 classes.\n",
            "Epoch 1/30\n",
            "100/100 [==============================] - 29s 290ms/step - loss: 0.4973 - acc: 0.7480 - val_loss: 0.0833 - val_acc: 0.9330\n",
            "Epoch 2/30\n",
            "100/100 [==============================] - 19s 191ms/step - loss: 0.4061 - acc: 0.8150 - val_loss: 0.0017 - val_acc: 0.9530\n",
            "Epoch 3/30\n",
            "100/100 [==============================] - 19s 189ms/step - loss: 0.3624 - acc: 0.8355 - val_loss: 0.0083 - val_acc: 0.9510\n",
            "Epoch 4/30\n",
            "100/100 [==============================] - 19s 187ms/step - loss: 0.3378 - acc: 0.8510 - val_loss: 0.3473 - val_acc: 0.9550\n",
            "Epoch 5/30\n",
            "100/100 [==============================] - 19s 192ms/step - loss: 0.3525 - acc: 0.8485 - val_loss: 0.1199 - val_acc: 0.9540\n",
            "Epoch 6/30\n",
            "100/100 [==============================] - 19s 189ms/step - loss: 0.3147 - acc: 0.8615 - val_loss: 7.3754e-04 - val_acc: 0.9570\n",
            "Epoch 7/30\n",
            "100/100 [==============================] - 19s 189ms/step - loss: 0.2996 - acc: 0.8670 - val_loss: 0.3932 - val_acc: 0.9600\n",
            "Epoch 8/30\n",
            "100/100 [==============================] - 19s 188ms/step - loss: 0.3156 - acc: 0.8630 - val_loss: 0.0442 - val_acc: 0.9620\n",
            "Epoch 9/30\n",
            "100/100 [==============================] - 19s 189ms/step - loss: 0.2965 - acc: 0.8770 - val_loss: 0.4658 - val_acc: 0.9620\n",
            "Epoch 10/30\n",
            "100/100 [==============================] - 19s 189ms/step - loss: 0.2874 - acc: 0.8835 - val_loss: 0.0956 - val_acc: 0.9640\n",
            "Epoch 11/30\n",
            "100/100 [==============================] - 19s 189ms/step - loss: 0.2831 - acc: 0.8790 - val_loss: 0.4261 - val_acc: 0.9650\n",
            "Epoch 12/30\n",
            "100/100 [==============================] - 19s 188ms/step - loss: 0.2762 - acc: 0.8875 - val_loss: 0.9042 - val_acc: 0.9650\n",
            "Epoch 13/30\n",
            "100/100 [==============================] - 19s 188ms/step - loss: 0.2618 - acc: 0.8875 - val_loss: 0.3306 - val_acc: 0.9610\n",
            "Epoch 14/30\n",
            "100/100 [==============================] - 19s 191ms/step - loss: 0.2661 - acc: 0.8895 - val_loss: 0.5626 - val_acc: 0.9560\n",
            "Epoch 15/30\n",
            "100/100 [==============================] - 19s 191ms/step - loss: 0.2992 - acc: 0.8795 - val_loss: 0.2340 - val_acc: 0.9650\n",
            "Epoch 16/30\n",
            "100/100 [==============================] - 19s 191ms/step - loss: 0.2718 - acc: 0.8855 - val_loss: 3.7801e-04 - val_acc: 0.9650\n",
            "Epoch 17/30\n",
            "100/100 [==============================] - 19s 191ms/step - loss: 0.2499 - acc: 0.9080 - val_loss: 0.0132 - val_acc: 0.9650\n",
            "Epoch 18/30\n",
            "100/100 [==============================] - 19s 189ms/step - loss: 0.2635 - acc: 0.8955 - val_loss: 0.6777 - val_acc: 0.9640\n",
            "Epoch 19/30\n",
            "100/100 [==============================] - 19s 189ms/step - loss: 0.2589 - acc: 0.8985 - val_loss: 0.0310 - val_acc: 0.9680\n",
            "Epoch 20/30\n",
            "100/100 [==============================] - 19s 188ms/step - loss: 0.2863 - acc: 0.8790 - val_loss: 1.9420e-04 - val_acc: 0.9670\n",
            "Epoch 21/30\n",
            "100/100 [==============================] - 19s 189ms/step - loss: 0.2461 - acc: 0.8975 - val_loss: 7.5996e-04 - val_acc: 0.9620\n",
            "Epoch 22/30\n",
            "100/100 [==============================] - 19s 189ms/step - loss: 0.2586 - acc: 0.8925 - val_loss: 0.0268 - val_acc: 0.9650\n",
            "Epoch 23/30\n",
            "100/100 [==============================] - 19s 188ms/step - loss: 0.2304 - acc: 0.9050 - val_loss: 1.4300 - val_acc: 0.9680\n",
            "Epoch 24/30\n",
            "100/100 [==============================] - 19s 189ms/step - loss: 0.2411 - acc: 0.9035 - val_loss: 1.9356e-05 - val_acc: 0.9620\n",
            "Epoch 25/30\n",
            "100/100 [==============================] - 19s 188ms/step - loss: 0.2398 - acc: 0.9075 - val_loss: 0.0080 - val_acc: 0.9630\n",
            "Epoch 26/30\n",
            "100/100 [==============================] - 19s 188ms/step - loss: 0.2314 - acc: 0.9090 - val_loss: 3.1850e-10 - val_acc: 0.9650\n",
            "Epoch 27/30\n",
            "100/100 [==============================] - 19s 190ms/step - loss: 0.2518 - acc: 0.8970 - val_loss: 1.2006e-04 - val_acc: 0.9650\n",
            "Epoch 28/30\n",
            "100/100 [==============================] - 19s 188ms/step - loss: 0.2633 - acc: 0.8935 - val_loss: 0.0103 - val_acc: 0.9670\n",
            "Epoch 29/30\n",
            "100/100 [==============================] - 19s 188ms/step - loss: 0.2106 - acc: 0.9090 - val_loss: 3.1074e-04 - val_acc: 0.9690\n",
            "Epoch 30/30\n",
            "100/100 [==============================] - 19s 187ms/step - loss: 0.2747 - acc: 0.8925 - val_loss: 7.4676e-09 - val_acc: 0.9680\n"
          ],
          "name": "stdout"
        }
      ]
    },
    {
      "cell_type": "markdown",
      "metadata": {
        "id": "xqRc_vHKc92U",
        "colab_type": "text"
      },
      "source": [
        "## Display curves of loss and accuracy during training"
      ]
    },
    {
      "cell_type": "code",
      "metadata": {
        "id": "ybWwdzz9bwuQ",
        "colab_type": "code",
        "outputId": "d4e7173d-a6a0-472b-ba40-32f5d83e4076",
        "colab": {
          "base_uri": "https://localhost:8080/",
          "height": 545
        }
      },
      "source": [
        "%matplotlib inline\n",
        "\n",
        "import matplotlib.pyplot as plt\n",
        "\n",
        "acc = history.history['acc']\n",
        "val_acc = history.history['val_acc']\n",
        "\n",
        "loss = history.history['loss']\n",
        "val_loss = history.history['val_loss']\n",
        "\n",
        "epochs = range(1, len(acc) + 1)\n",
        "\n",
        "# training and validation accuracy\n",
        "\n",
        "plt.plot(epochs, acc, 'bo', label='training acc')\n",
        "plt.plot(epochs, val_acc, 'b', label='validation acc')\n",
        "plt.title('training and validation accuracy')\n",
        "plt.legend()\n",
        "\n",
        "plt.figure()\n",
        "\n",
        "# training and validation loss\n",
        "\n",
        "plt.plot(epochs, loss, 'bo', label='training loss')\n",
        "plt.plot(epochs, val_loss, 'b', label='validation loss')\n",
        "plt.title('training and validation loss')\n",
        "plt.legend()\n",
        "\n",
        "plt.show()"
      ],
      "execution_count": 0,
      "outputs": [
        {
          "output_type": "display_data",
          "data": {
            "image/png": "[encoded data removed]",
            "text/plain": [
              "<Figure size 432x288 with 1 Axes>"
            ]
          },
          "metadata": {
            "tags": [],
            "needs_background": "light"
          }
        },
        {
          "output_type": "display_data",
          "data": {
            "image/png": "[encoded data removed]",
            "text/plain": [
              "<Figure size 432x288 with 1 Axes>"
            ]
          },
          "metadata": {
            "tags": [],
            "needs_background": "light"
          }
        }
      ]
    },
    {
      "cell_type": "markdown",
      "metadata": {
        "id": "lOWsxpey8lN0",
        "colab_type": "text"
      },
      "source": [
        "## Fine-tuning"
      ]
    },
    {
      "cell_type": "code",
      "metadata": {
        "id": "PwkVMx8N8qMw",
        "colab_type": "code",
        "outputId": "9839e246-139d-4345-fa14-d9c6e94fd00b",
        "colab": {
          "base_uri": "https://localhost:8080/",
          "height": 1000
        }
      },
      "source": [
        "conv_base.trainable = True\n",
        "\n",
        "set_trainable = False\n",
        "for layer in conv_base.layers:\n",
        "  print(layer.name);\n",
        "  set_trainable |= layer.name == 'conv5_block1_preact_bn';\n",
        "  layer.trainable = set_trainable;\n",
        "  print(set_trainable);\n",
        "  # if layer.name == 'block5_conv1':\n",
        "  #   set_trainable = True\n",
        "  # if set_trainable:\n",
        "  #   layer.trainable = True\n",
        "  # else:\n",
        "  #   layer.trainable = False"
      ],
      "execution_count": 0,
      "outputs": [
        {
          "output_type": "stream",
          "text": [
            "input_1\n",
            "False\n",
            "conv1_pad\n",
            "False\n",
            "conv1_conv\n",
            "False\n",
            "pool1_pad\n",
            "False\n",
            "pool1_pool\n",
            "False\n",
            "conv2_block1_preact_bn\n",
            "False\n",
            "conv2_block1_preact_relu\n",
            "False\n",
            "conv2_block1_1_conv\n",
            "False\n",
            "conv2_block1_1_bn\n",
            "False\n",
            "conv2_block1_1_relu\n",
            "False\n",
            "conv2_block1_2_pad\n",
            "False\n",
            "conv2_block1_2_conv\n",
            "False\n",
            "conv2_block1_2_bn\n",
            "False\n",
            "conv2_block1_2_relu\n",
            "False\n",
            "conv2_block1_0_conv\n",
            "False\n",
            "conv2_block1_3_conv\n",
            "False\n",
            "conv2_block1_out\n",
            "False\n",
            "conv2_block2_preact_bn\n",
            "False\n",
            "conv2_block2_preact_relu\n",
            "False\n",
            "conv2_block2_1_conv\n",
            "False\n",
            "conv2_block2_1_bn\n",
            "False\n",
            "conv2_block2_1_relu\n",
            "False\n",
            "conv2_block2_2_pad\n",
            "False\n",
            "conv2_block2_2_conv\n",
            "False\n",
            "conv2_block2_2_bn\n",
            "False\n",
            "conv2_block2_2_relu\n",
            "False\n",
            "conv2_block2_3_conv\n",
            "False\n",
            "conv2_block2_out\n",
            "False\n",
            "conv2_block3_preact_bn\n",
            "False\n",
            "conv2_block3_preact_relu\n",
            "False\n",
            "conv2_block3_1_conv\n",
            "False\n",
            "conv2_block3_1_bn\n",
            "False\n",
            "conv2_block3_1_relu\n",
            "False\n",
            "conv2_block3_2_pad\n",
            "False\n",
            "conv2_block3_2_conv\n",
            "False\n",
            "conv2_block3_2_bn\n",
            "False\n",
            "conv2_block3_2_relu\n",
            "False\n",
            "max_pooling2d_1\n",
            "False\n",
            "conv2_block3_3_conv\n",
            "False\n",
            "conv2_block3_out\n",
            "False\n",
            "conv3_block1_preact_bn\n",
            "False\n",
            "conv3_block1_preact_relu\n",
            "False\n",
            "conv3_block1_1_conv\n",
            "False\n",
            "conv3_block1_1_bn\n",
            "False\n",
            "conv3_block1_1_relu\n",
            "False\n",
            "conv3_block1_2_pad\n",
            "False\n",
            "conv3_block1_2_conv\n",
            "False\n",
            "conv3_block1_2_bn\n",
            "False\n",
            "conv3_block1_2_relu\n",
            "False\n",
            "conv3_block1_0_conv\n",
            "False\n",
            "conv3_block1_3_conv\n",
            "False\n",
            "conv3_block1_out\n",
            "False\n",
            "conv3_block2_preact_bn\n",
            "False\n",
            "conv3_block2_preact_relu\n",
            "False\n",
            "conv3_block2_1_conv\n",
            "False\n",
            "conv3_block2_1_bn\n",
            "False\n",
            "conv3_block2_1_relu\n",
            "False\n",
            "conv3_block2_2_pad\n",
            "False\n",
            "conv3_block2_2_conv\n",
            "False\n",
            "conv3_block2_2_bn\n",
            "False\n",
            "conv3_block2_2_relu\n",
            "False\n",
            "conv3_block2_3_conv\n",
            "False\n",
            "conv3_block2_out\n",
            "False\n",
            "conv3_block3_preact_bn\n",
            "False\n",
            "conv3_block3_preact_relu\n",
            "False\n",
            "conv3_block3_1_conv\n",
            "False\n",
            "conv3_block3_1_bn\n",
            "False\n",
            "conv3_block3_1_relu\n",
            "False\n",
            "conv3_block3_2_pad\n",
            "False\n",
            "conv3_block3_2_conv\n",
            "False\n",
            "conv3_block3_2_bn\n",
            "False\n",
            "conv3_block3_2_relu\n",
            "False\n",
            "conv3_block3_3_conv\n",
            "False\n",
            "conv3_block3_out\n",
            "False\n",
            "conv3_block4_preact_bn\n",
            "False\n",
            "conv3_block4_preact_relu\n",
            "False\n",
            "conv3_block4_1_conv\n",
            "False\n",
            "conv3_block4_1_bn\n",
            "False\n",
            "conv3_block4_1_relu\n",
            "False\n",
            "conv3_block4_2_pad\n",
            "False\n",
            "conv3_block4_2_conv\n",
            "False\n",
            "conv3_block4_2_bn\n",
            "False\n",
            "conv3_block4_2_relu\n",
            "False\n",
            "max_pooling2d_2\n",
            "False\n",
            "conv3_block4_3_conv\n",
            "False\n",
            "conv3_block4_out\n",
            "False\n",
            "conv4_block1_preact_bn\n",
            "False\n",
            "conv4_block1_preact_relu\n",
            "False\n",
            "conv4_block1_1_conv\n",
            "False\n",
            "conv4_block1_1_bn\n",
            "False\n",
            "conv4_block1_1_relu\n",
            "False\n",
            "conv4_block1_2_pad\n",
            "False\n",
            "conv4_block1_2_conv\n",
            "False\n",
            "conv4_block1_2_bn\n",
            "False\n",
            "conv4_block1_2_relu\n",
            "False\n",
            "conv4_block1_0_conv\n",
            "False\n",
            "conv4_block1_3_conv\n",
            "False\n",
            "conv4_block1_out\n",
            "False\n",
            "conv4_block2_preact_bn\n",
            "False\n",
            "conv4_block2_preact_relu\n",
            "False\n",
            "conv4_block2_1_conv\n",
            "False\n",
            "conv4_block2_1_bn\n",
            "False\n",
            "conv4_block2_1_relu\n",
            "False\n",
            "conv4_block2_2_pad\n",
            "False\n",
            "conv4_block2_2_conv\n",
            "False\n",
            "conv4_block2_2_bn\n",
            "False\n",
            "conv4_block2_2_relu\n",
            "False\n",
            "conv4_block2_3_conv\n",
            "False\n",
            "conv4_block2_out\n",
            "False\n",
            "conv4_block3_preact_bn\n",
            "False\n",
            "conv4_block3_preact_relu\n",
            "False\n",
            "conv4_block3_1_conv\n",
            "False\n",
            "conv4_block3_1_bn\n",
            "False\n",
            "conv4_block3_1_relu\n",
            "False\n",
            "conv4_block3_2_pad\n",
            "False\n",
            "conv4_block3_2_conv\n",
            "False\n",
            "conv4_block3_2_bn\n",
            "False\n",
            "conv4_block3_2_relu\n",
            "False\n",
            "conv4_block3_3_conv\n",
            "False\n",
            "conv4_block3_out\n",
            "False\n",
            "conv4_block4_preact_bn\n",
            "False\n",
            "conv4_block4_preact_relu\n",
            "False\n",
            "conv4_block4_1_conv\n",
            "False\n",
            "conv4_block4_1_bn\n",
            "False\n",
            "conv4_block4_1_relu\n",
            "False\n",
            "conv4_block4_2_pad\n",
            "False\n",
            "conv4_block4_2_conv\n",
            "False\n",
            "conv4_block4_2_bn\n",
            "False\n",
            "conv4_block4_2_relu\n",
            "False\n",
            "conv4_block4_3_conv\n",
            "False\n",
            "conv4_block4_out\n",
            "False\n",
            "conv4_block5_preact_bn\n",
            "False\n",
            "conv4_block5_preact_relu\n",
            "False\n",
            "conv4_block5_1_conv\n",
            "False\n",
            "conv4_block5_1_bn\n",
            "False\n",
            "conv4_block5_1_relu\n",
            "False\n",
            "conv4_block5_2_pad\n",
            "False\n",
            "conv4_block5_2_conv\n",
            "False\n",
            "conv4_block5_2_bn\n",
            "False\n",
            "conv4_block5_2_relu\n",
            "False\n",
            "conv4_block5_3_conv\n",
            "False\n",
            "conv4_block5_out\n",
            "False\n",
            "conv4_block6_preact_bn\n",
            "False\n",
            "conv4_block6_preact_relu\n",
            "False\n",
            "conv4_block6_1_conv\n",
            "False\n",
            "conv4_block6_1_bn\n",
            "False\n",
            "conv4_block6_1_relu\n",
            "False\n",
            "conv4_block6_2_pad\n",
            "False\n",
            "conv4_block6_2_conv\n",
            "False\n",
            "conv4_block6_2_bn\n",
            "False\n",
            "conv4_block6_2_relu\n",
            "False\n",
            "max_pooling2d_3\n",
            "False\n",
            "conv4_block6_3_conv\n",
            "False\n",
            "conv4_block6_out\n",
            "False\n",
            "conv5_block1_preact_bn\n",
            "True\n",
            "conv5_block1_preact_relu\n",
            "True\n",
            "conv5_block1_1_conv\n",
            "True\n",
            "conv5_block1_1_bn\n",
            "True\n",
            "conv5_block1_1_relu\n",
            "True\n",
            "conv5_block1_2_pad\n",
            "True\n",
            "conv5_block1_2_conv\n",
            "True\n",
            "conv5_block1_2_bn\n",
            "True\n",
            "conv5_block1_2_relu\n",
            "True\n",
            "conv5_block1_0_conv\n",
            "True\n",
            "conv5_block1_3_conv\n",
            "True\n",
            "conv5_block1_out\n",
            "True\n",
            "conv5_block2_preact_bn\n",
            "True\n",
            "conv5_block2_preact_relu\n",
            "True\n",
            "conv5_block2_1_conv\n",
            "True\n",
            "conv5_block2_1_bn\n",
            "True\n",
            "conv5_block2_1_relu\n",
            "True\n",
            "conv5_block2_2_pad\n",
            "True\n",
            "conv5_block2_2_conv\n",
            "True\n",
            "conv5_block2_2_bn\n",
            "True\n",
            "conv5_block2_2_relu\n",
            "True\n",
            "conv5_block2_3_conv\n",
            "True\n",
            "conv5_block2_out\n",
            "True\n",
            "conv5_block3_preact_bn\n",
            "True\n",
            "conv5_block3_preact_relu\n",
            "True\n",
            "conv5_block3_1_conv\n",
            "True\n",
            "conv5_block3_1_bn\n",
            "True\n",
            "conv5_block3_1_relu\n",
            "True\n",
            "conv5_block3_2_pad\n",
            "True\n",
            "conv5_block3_2_conv\n",
            "True\n",
            "conv5_block3_2_bn\n",
            "True\n",
            "conv5_block3_2_relu\n",
            "True\n",
            "conv5_block3_3_conv\n",
            "True\n",
            "conv5_block3_out\n",
            "True\n",
            "post_bn\n",
            "True\n",
            "post_relu\n",
            "True\n"
          ],
          "name": "stdout"
        }
      ]
    },
    {
      "cell_type": "code",
      "metadata": {
        "id": "DyN-J7rs9cvo",
        "colab_type": "code",
        "outputId": "1972c955-f0c1-484e-827b-b613ac351590",
        "colab": {
          "base_uri": "https://localhost:8080/",
          "height": 1000
        }
      },
      "source": [
        "# compile model\n",
        "\n",
        "model.compile(\n",
        "    loss='binary_crossentropy',\n",
        "    #\n",
        "    # choose a smaller learning rate\n",
        "    #\n",
        "    optimizer=optimizers.RMSprop(lr=1e-5), \n",
        "    metrics=['acc'])\n",
        "\n",
        "# train\n",
        "\n",
        "history = model.fit_generator(\n",
        "    train_generator,\n",
        "    steps_per_epoch=100,\n",
        "    epochs=100,\n",
        "    validation_data=validation_generator,\n",
        "    validation_steps=50)"
      ],
      "execution_count": 0,
      "outputs": [
        {
          "output_type": "stream",
          "text": [
            "Epoch 1/100\n",
            "100/100 [==============================] - 27s 269ms/step - loss: 0.2556 - acc: 0.8965 - val_loss: 0.0066 - val_acc: 0.9400\n",
            "Epoch 2/100\n",
            "100/100 [==============================] - 21s 209ms/step - loss: 0.2360 - acc: 0.9075 - val_loss: 0.1543 - val_acc: 0.9260\n",
            "Epoch 3/100\n",
            "100/100 [==============================] - 21s 211ms/step - loss: 0.2005 - acc: 0.9265 - val_loss: 0.3041 - val_acc: 0.9320\n",
            "Epoch 4/100\n",
            "100/100 [==============================] - 21s 211ms/step - loss: 0.2175 - acc: 0.9220 - val_loss: 0.1450 - val_acc: 0.9390\n",
            "Epoch 5/100\n",
            "100/100 [==============================] - 21s 211ms/step - loss: 0.2012 - acc: 0.9280 - val_loss: 0.0209 - val_acc: 0.9400\n",
            "Epoch 6/100\n",
            "100/100 [==============================] - 21s 209ms/step - loss: 0.2039 - acc: 0.9270 - val_loss: 0.9110 - val_acc: 0.9430\n",
            "Epoch 7/100\n",
            "100/100 [==============================] - 21s 210ms/step - loss: 0.1671 - acc: 0.9390 - val_loss: 0.1228 - val_acc: 0.9420\n",
            "Epoch 8/100\n",
            "100/100 [==============================] - 21s 208ms/step - loss: 0.1825 - acc: 0.9305 - val_loss: 0.4424 - val_acc: 0.9390\n",
            "Epoch 9/100\n",
            "100/100 [==============================] - 21s 209ms/step - loss: 0.1747 - acc: 0.9295 - val_loss: 0.3680 - val_acc: 0.9390\n",
            "Epoch 10/100\n",
            "100/100 [==============================] - 21s 208ms/step - loss: 0.1615 - acc: 0.9360 - val_loss: 1.1450 - val_acc: 0.9430\n",
            "Epoch 11/100\n",
            "100/100 [==============================] - 21s 209ms/step - loss: 0.1726 - acc: 0.9345 - val_loss: 0.2344 - val_acc: 0.9340\n",
            "Epoch 12/100\n",
            "100/100 [==============================] - 21s 208ms/step - loss: 0.1557 - acc: 0.9370 - val_loss: 0.1058 - val_acc: 0.9380\n",
            "Epoch 13/100\n",
            "100/100 [==============================] - 21s 207ms/step - loss: 0.1582 - acc: 0.9380 - val_loss: 0.0330 - val_acc: 0.9510\n",
            "Epoch 14/100\n",
            "100/100 [==============================] - 21s 207ms/step - loss: 0.1455 - acc: 0.9440 - val_loss: 0.0839 - val_acc: 0.9440\n",
            "Epoch 15/100\n",
            "100/100 [==============================] - 21s 208ms/step - loss: 0.1561 - acc: 0.9370 - val_loss: 0.4003 - val_acc: 0.9480\n",
            "Epoch 16/100\n",
            "100/100 [==============================] - 21s 207ms/step - loss: 0.1517 - acc: 0.9345 - val_loss: 0.0665 - val_acc: 0.9400\n",
            "Epoch 17/100\n",
            "100/100 [==============================] - 21s 208ms/step - loss: 0.1633 - acc: 0.9390 - val_loss: 0.0097 - val_acc: 0.9470\n",
            "Epoch 18/100\n",
            "100/100 [==============================] - 21s 209ms/step - loss: 0.1643 - acc: 0.9380 - val_loss: 0.4151 - val_acc: 0.9430\n",
            "Epoch 19/100\n",
            "100/100 [==============================] - 21s 207ms/step - loss: 0.1531 - acc: 0.9440 - val_loss: 0.0677 - val_acc: 0.9470\n",
            "Epoch 20/100\n",
            "100/100 [==============================] - 21s 209ms/step - loss: 0.1213 - acc: 0.9575 - val_loss: 0.0818 - val_acc: 0.9440\n",
            "Epoch 21/100\n",
            "100/100 [==============================] - 21s 206ms/step - loss: 0.1111 - acc: 0.9585 - val_loss: 0.3528 - val_acc: 0.9500\n",
            "Epoch 22/100\n",
            "100/100 [==============================] - 21s 209ms/step - loss: 0.1386 - acc: 0.9495 - val_loss: 0.2029 - val_acc: 0.9530\n",
            "Epoch 23/100\n",
            "100/100 [==============================] - 21s 207ms/step - loss: 0.1384 - acc: 0.9465 - val_loss: 0.1794 - val_acc: 0.9470\n",
            "Epoch 24/100\n",
            "100/100 [==============================] - 21s 207ms/step - loss: 0.1367 - acc: 0.9475 - val_loss: 0.0252 - val_acc: 0.9490\n",
            "Epoch 25/100\n",
            "100/100 [==============================] - 21s 208ms/step - loss: 0.1294 - acc: 0.9525 - val_loss: 0.4122 - val_acc: 0.9550\n",
            "Epoch 26/100\n",
            "100/100 [==============================] - 21s 207ms/step - loss: 0.1153 - acc: 0.9580 - val_loss: 0.0781 - val_acc: 0.9470\n",
            "Epoch 27/100\n",
            "100/100 [==============================] - 21s 207ms/step - loss: 0.1373 - acc: 0.9495 - val_loss: 0.2774 - val_acc: 0.9510\n",
            "Epoch 28/100\n",
            "100/100 [==============================] - 21s 207ms/step - loss: 0.1248 - acc: 0.9525 - val_loss: 0.3301 - val_acc: 0.9460\n",
            "Epoch 29/100\n",
            "100/100 [==============================] - 21s 207ms/step - loss: 0.0963 - acc: 0.9635 - val_loss: 0.0016 - val_acc: 0.9440\n",
            "Epoch 30/100\n",
            "100/100 [==============================] - 21s 208ms/step - loss: 0.1134 - acc: 0.9570 - val_loss: 0.0482 - val_acc: 0.9490\n",
            "Epoch 31/100\n",
            "100/100 [==============================] - 21s 207ms/step - loss: 0.1070 - acc: 0.9600 - val_loss: 0.0591 - val_acc: 0.9480\n",
            "Epoch 32/100\n",
            "100/100 [==============================] - 21s 207ms/step - loss: 0.1182 - acc: 0.9545 - val_loss: 0.1071 - val_acc: 0.9480\n",
            "Epoch 33/100\n",
            "100/100 [==============================] - 21s 207ms/step - loss: 0.1109 - acc: 0.9585 - val_loss: 0.2379 - val_acc: 0.9460\n",
            "Epoch 34/100\n",
            "100/100 [==============================] - 21s 208ms/step - loss: 0.1069 - acc: 0.9610 - val_loss: 0.0147 - val_acc: 0.9430\n",
            "Epoch 35/100\n",
            "100/100 [==============================] - 21s 209ms/step - loss: 0.1051 - acc: 0.9650 - val_loss: 0.0950 - val_acc: 0.9460\n",
            "Epoch 36/100\n",
            "100/100 [==============================] - 21s 207ms/step - loss: 0.1082 - acc: 0.9630 - val_loss: 0.3697 - val_acc: 0.9480\n",
            "Epoch 37/100\n",
            "100/100 [==============================] - 21s 207ms/step - loss: 0.1086 - acc: 0.9635 - val_loss: 0.1753 - val_acc: 0.9520\n",
            "Epoch 38/100\n",
            "100/100 [==============================] - 21s 207ms/step - loss: 0.1044 - acc: 0.9650 - val_loss: 0.2789 - val_acc: 0.9450\n",
            "Epoch 39/100\n",
            "100/100 [==============================] - 21s 208ms/step - loss: 0.1029 - acc: 0.9660 - val_loss: 1.3641 - val_acc: 0.9440\n",
            "Epoch 40/100\n",
            "100/100 [==============================] - 21s 207ms/step - loss: 0.0987 - acc: 0.9715 - val_loss: 0.0029 - val_acc: 0.9500\n",
            "Epoch 41/100\n",
            "100/100 [==============================] - 21s 209ms/step - loss: 0.0946 - acc: 0.9700 - val_loss: 0.2187 - val_acc: 0.9470\n",
            "Epoch 42/100\n",
            "100/100 [==============================] - 21s 209ms/step - loss: 0.0779 - acc: 0.9745 - val_loss: 0.0166 - val_acc: 0.9480\n",
            "Epoch 43/100\n",
            "100/100 [==============================] - 21s 207ms/step - loss: 0.0974 - acc: 0.9630 - val_loss: 0.2218 - val_acc: 0.9510\n",
            "Epoch 44/100\n",
            "100/100 [==============================] - 21s 208ms/step - loss: 0.1142 - acc: 0.9640 - val_loss: 2.3780e-04 - val_acc: 0.9540\n",
            "Epoch 45/100\n",
            "100/100 [==============================] - 21s 208ms/step - loss: 0.0713 - acc: 0.9755 - val_loss: 0.0620 - val_acc: 0.9490\n",
            "Epoch 46/100\n",
            "100/100 [==============================] - 21s 207ms/step - loss: 0.0819 - acc: 0.9735 - val_loss: 0.0189 - val_acc: 0.9530\n",
            "Epoch 47/100\n",
            "100/100 [==============================] - 21s 208ms/step - loss: 0.0874 - acc: 0.9710 - val_loss: 0.0024 - val_acc: 0.9490\n",
            "Epoch 48/100\n",
            "100/100 [==============================] - 21s 206ms/step - loss: 0.0736 - acc: 0.9730 - val_loss: 0.0669 - val_acc: 0.9510\n",
            "Epoch 49/100\n",
            "100/100 [==============================] - 21s 209ms/step - loss: 0.0870 - acc: 0.9665 - val_loss: 0.0481 - val_acc: 0.9520\n",
            "Epoch 50/100\n",
            "100/100 [==============================] - 21s 208ms/step - loss: 0.0871 - acc: 0.9720 - val_loss: 0.4023 - val_acc: 0.9520\n",
            "Epoch 51/100\n",
            "100/100 [==============================] - 21s 207ms/step - loss: 0.0875 - acc: 0.9695 - val_loss: 0.1464 - val_acc: 0.9550\n",
            "Epoch 52/100\n",
            "100/100 [==============================] - 21s 208ms/step - loss: 0.0889 - acc: 0.9695 - val_loss: 0.0351 - val_acc: 0.9550\n",
            "Epoch 53/100\n",
            "100/100 [==============================] - 21s 208ms/step - loss: 0.0838 - acc: 0.9705 - val_loss: 0.1319 - val_acc: 0.9470\n",
            "Epoch 54/100\n",
            "100/100 [==============================] - 21s 207ms/step - loss: 0.0691 - acc: 0.9705 - val_loss: 0.5614 - val_acc: 0.9480\n",
            "Epoch 55/100\n",
            "100/100 [==============================] - 21s 208ms/step - loss: 0.1053 - acc: 0.9690 - val_loss: 0.2837 - val_acc: 0.9460\n",
            "Epoch 56/100\n",
            "100/100 [==============================] - 21s 207ms/step - loss: 0.0759 - acc: 0.9740 - val_loss: 0.1755 - val_acc: 0.9460\n",
            "Epoch 57/100\n",
            "100/100 [==============================] - 21s 208ms/step - loss: 0.0681 - acc: 0.9765 - val_loss: 0.2112 - val_acc: 0.9520\n",
            "Epoch 58/100\n",
            "100/100 [==============================] - 21s 206ms/step - loss: 0.0597 - acc: 0.9795 - val_loss: 0.0253 - val_acc: 0.9490\n",
            "Epoch 59/100\n",
            "100/100 [==============================] - 21s 207ms/step - loss: 0.0647 - acc: 0.9800 - val_loss: 0.0284 - val_acc: 0.9510\n",
            "Epoch 60/100\n",
            "100/100 [==============================] - 21s 207ms/step - loss: 0.0792 - acc: 0.9720 - val_loss: 0.5209 - val_acc: 0.9510\n",
            "Epoch 61/100\n",
            "100/100 [==============================] - 21s 206ms/step - loss: 0.0799 - acc: 0.9720 - val_loss: 0.0292 - val_acc: 0.9510\n",
            "Epoch 62/100\n",
            "100/100 [==============================] - 21s 208ms/step - loss: 0.0573 - acc: 0.9810 - val_loss: 0.1418 - val_acc: 0.9490\n",
            "Epoch 63/100\n",
            "100/100 [==============================] - 21s 207ms/step - loss: 0.0615 - acc: 0.9795 - val_loss: 0.0545 - val_acc: 0.9500\n",
            "Epoch 64/100\n",
            "100/100 [==============================] - 21s 207ms/step - loss: 0.0686 - acc: 0.9715 - val_loss: 0.1482 - val_acc: 0.9490\n",
            "Epoch 65/100\n",
            "100/100 [==============================] - 21s 207ms/step - loss: 0.0521 - acc: 0.9825 - val_loss: 0.2643 - val_acc: 0.9500\n",
            "Epoch 66/100\n",
            "100/100 [==============================] - 21s 207ms/step - loss: 0.0573 - acc: 0.9800 - val_loss: 0.0799 - val_acc: 0.9520\n",
            "Epoch 67/100\n",
            "100/100 [==============================] - 21s 206ms/step - loss: 0.0756 - acc: 0.9735 - val_loss: 0.3211 - val_acc: 0.9560\n",
            "Epoch 68/100\n",
            "100/100 [==============================] - 21s 206ms/step - loss: 0.0526 - acc: 0.9805 - val_loss: 0.0070 - val_acc: 0.9520\n",
            "Epoch 69/100\n",
            "100/100 [==============================] - 21s 207ms/step - loss: 0.0619 - acc: 0.9785 - val_loss: 1.8770e-05 - val_acc: 0.9570\n",
            "Epoch 70/100\n",
            "100/100 [==============================] - 21s 205ms/step - loss: 0.0602 - acc: 0.9785 - val_loss: 0.1221 - val_acc: 0.9520\n",
            "Epoch 71/100\n",
            "100/100 [==============================] - 21s 207ms/step - loss: 0.0483 - acc: 0.9785 - val_loss: 0.0081 - val_acc: 0.9500\n",
            "Epoch 72/100\n",
            "100/100 [==============================] - 21s 208ms/step - loss: 0.0620 - acc: 0.9780 - val_loss: 0.6819 - val_acc: 0.9530\n",
            "Epoch 73/100\n",
            "100/100 [==============================] - 21s 206ms/step - loss: 0.0488 - acc: 0.9820 - val_loss: 0.0407 - val_acc: 0.9570\n",
            "Epoch 74/100\n",
            "100/100 [==============================] - 21s 207ms/step - loss: 0.0635 - acc: 0.9800 - val_loss: 0.0128 - val_acc: 0.9590\n",
            "Epoch 75/100\n",
            "100/100 [==============================] - 21s 207ms/step - loss: 0.0643 - acc: 0.9785 - val_loss: 0.0299 - val_acc: 0.9580\n",
            "Epoch 76/100\n",
            "100/100 [==============================] - 21s 206ms/step - loss: 0.0595 - acc: 0.9765 - val_loss: 0.0176 - val_acc: 0.9570\n",
            "Epoch 77/100\n",
            "100/100 [==============================] - 21s 207ms/step - loss: 0.0547 - acc: 0.9840 - val_loss: 0.3665 - val_acc: 0.9590\n",
            "Epoch 78/100\n",
            "100/100 [==============================] - 21s 207ms/step - loss: 0.0448 - acc: 0.9855 - val_loss: 0.4578 - val_acc: 0.9540\n",
            "Epoch 79/100\n",
            "100/100 [==============================] - 21s 207ms/step - loss: 0.0640 - acc: 0.9785 - val_loss: 0.2860 - val_acc: 0.9560\n",
            "Epoch 80/100\n",
            "100/100 [==============================] - 21s 209ms/step - loss: 0.0657 - acc: 0.9795 - val_loss: 0.0492 - val_acc: 0.9520\n",
            "Epoch 81/100\n",
            "100/100 [==============================] - 21s 207ms/step - loss: 0.0477 - acc: 0.9850 - val_loss: 0.4724 - val_acc: 0.9560\n",
            "Epoch 82/100\n",
            "100/100 [==============================] - 21s 207ms/step - loss: 0.0517 - acc: 0.9840 - val_loss: 0.0028 - val_acc: 0.9550\n",
            "Epoch 83/100\n",
            "100/100 [==============================] - 21s 207ms/step - loss: 0.0468 - acc: 0.9835 - val_loss: 0.5008 - val_acc: 0.9450\n",
            "Epoch 84/100\n",
            "100/100 [==============================] - 21s 207ms/step - loss: 0.0464 - acc: 0.9805 - val_loss: 0.2549 - val_acc: 0.9550\n",
            "Epoch 85/100\n",
            "100/100 [==============================] - 21s 206ms/step - loss: 0.0565 - acc: 0.9780 - val_loss: 0.0112 - val_acc: 0.9540\n",
            "Epoch 86/100\n",
            "100/100 [==============================] - 21s 206ms/step - loss: 0.0427 - acc: 0.9850 - val_loss: 1.1176 - val_acc: 0.9510\n",
            "Epoch 87/100\n",
            "100/100 [==============================] - 21s 206ms/step - loss: 0.0556 - acc: 0.9855 - val_loss: 0.2144 - val_acc: 0.9580\n",
            "Epoch 88/100\n",
            "100/100 [==============================] - 21s 208ms/step - loss: 0.0526 - acc: 0.9825 - val_loss: 0.0026 - val_acc: 0.9530\n",
            "Epoch 89/100\n",
            "100/100 [==============================] - 21s 207ms/step - loss: 0.0475 - acc: 0.9840 - val_loss: 3.7424e-05 - val_acc: 0.9560\n",
            "Epoch 90/100\n",
            "100/100 [==============================] - 21s 206ms/step - loss: 0.0429 - acc: 0.9875 - val_loss: 7.9458e-04 - val_acc: 0.9580\n",
            "Epoch 91/100\n",
            "100/100 [==============================] - 21s 207ms/step - loss: 0.0437 - acc: 0.9835 - val_loss: 6.8611e-05 - val_acc: 0.9530\n",
            "Epoch 92/100\n",
            "100/100 [==============================] - 21s 207ms/step - loss: 0.0493 - acc: 0.9805 - val_loss: 0.1099 - val_acc: 0.9550\n",
            "Epoch 93/100\n",
            "100/100 [==============================] - 21s 207ms/step - loss: 0.0511 - acc: 0.9800 - val_loss: 0.5457 - val_acc: 0.9490\n",
            "Epoch 94/100\n",
            "100/100 [==============================] - 21s 206ms/step - loss: 0.0414 - acc: 0.9830 - val_loss: 0.0436 - val_acc: 0.9510\n",
            "Epoch 95/100\n",
            "100/100 [==============================] - 21s 209ms/step - loss: 0.0479 - acc: 0.9865 - val_loss: 0.4575 - val_acc: 0.9520\n",
            "Epoch 96/100\n",
            "100/100 [==============================] - 21s 208ms/step - loss: 0.0276 - acc: 0.9900 - val_loss: 5.7391e-06 - val_acc: 0.9540\n",
            "Epoch 97/100\n",
            "100/100 [==============================] - 21s 206ms/step - loss: 0.0399 - acc: 0.9835 - val_loss: 0.3687 - val_acc: 0.9540\n",
            "Epoch 98/100\n",
            "100/100 [==============================] - 21s 207ms/step - loss: 0.0463 - acc: 0.9855 - val_loss: 1.0340 - val_acc: 0.9520\n",
            "Epoch 99/100\n",
            "100/100 [==============================] - 21s 206ms/step - loss: 0.0499 - acc: 0.9845 - val_loss: 0.0114 - val_acc: 0.9540\n",
            "Epoch 100/100\n",
            "100/100 [==============================] - 21s 208ms/step - loss: 0.0523 - acc: 0.9825 - val_loss: 0.0027 - val_acc: 0.9530\n"
          ],
          "name": "stdout"
        }
      ]
    },
    {
      "cell_type": "markdown",
      "metadata": {
        "id": "eVBQgh5M-Rtz",
        "colab_type": "text"
      },
      "source": [
        "## Display learning curves during fine-tuning"
      ]
    },
    {
      "cell_type": "code",
      "metadata": {
        "id": "mbkIw7Ie-NP4",
        "colab_type": "code",
        "outputId": "5cd3f37c-b0db-4bab-849d-6abaa79ca481",
        "colab": {
          "base_uri": "https://localhost:8080/",
          "height": 545
        }
      },
      "source": [
        "%matplotlib inline\n",
        "\n",
        "import matplotlib.pyplot as plt\n",
        "\n",
        "acc = history.history['acc']\n",
        "val_acc = history.history['val_acc']\n",
        "\n",
        "loss = history.history['loss']\n",
        "val_loss = history.history['val_loss']\n",
        "\n",
        "epochs = range(1, len(acc) + 1)\n",
        "\n",
        "# training and validation accuracy\n",
        "\n",
        "plt.plot(epochs, acc, 'bo', label='training acc')\n",
        "plt.plot(epochs, val_acc, 'b', label='validation acc')\n",
        "plt.title('training and validation accuracy')\n",
        "plt.legend()\n",
        "\n",
        "plt.figure()\n",
        "\n",
        "# training and validation loss\n",
        "\n",
        "plt.plot(epochs, loss, 'bo', label='training loss')\n",
        "plt.plot(epochs, val_loss, 'b', label='validation loss')\n",
        "plt.title('training and validation loss')\n",
        "plt.legend()\n",
        "\n",
        "plt.show()"
      ],
      "execution_count": 0,
      "outputs": [
        {
          "output_type": "display_data",
          "data": {
            "image/png": "[encoded data removed]",
            "text/plain": [
              "<Figure size 432x288 with 1 Axes>"
            ]
          },
          "metadata": {
            "tags": [],
            "needs_background": "light"
          }
        },
        {
          "output_type": "display_data",
          "data": {
            "image/png": "[encoded data removed]",
            "text/plain": [
              "<Figure size 432x288 with 1 Axes>"
            ]
          },
          "metadata": {
            "tags": [],
            "needs_background": "light"
          }
        }
      ]
    },
    {
      "cell_type": "markdown",
      "metadata": {
        "id": "obQi6N4ZShdi",
        "colab_type": "text"
      },
      "source": [
        "This looks like overfitting. I should try  adding dropout for the densely connected layer."
      ]
    },
    {
      "cell_type": "markdown",
      "metadata": {
        "id": "he3Nw6TOJwjx",
        "colab_type": "text"
      },
      "source": [
        "## Print out validation loss and accuracy"
      ]
    },
    {
      "cell_type": "code",
      "metadata": {
        "id": "SVQtrk7uJdhl",
        "colab_type": "code",
        "colab": {}
      },
      "source": [
        "val_loss, val_acc = model.evaluate_generator(validation_generator, steps=50)"
      ],
      "execution_count": 0,
      "outputs": []
    },
    {
      "cell_type": "code",
      "metadata": {
        "id": "HpdddLi1SUMe",
        "colab_type": "code",
        "outputId": "1b37bf9f-77c9-4619-8444-0fb1c2c6a877",
        "colab": {
          "base_uri": "https://localhost:8080/",
          "height": 54
        }
      },
      "source": [
        "print(\"Validation loss:\", val_loss)\n",
        "print(\"Validation accuracy:\", val_acc)"
      ],
      "execution_count": 0,
      "outputs": [
        {
          "output_type": "stream",
          "text": [
            "Validation loss: 0.08171457052230835\n",
            "Validation accuracy: 0.953000009059906\n"
          ],
          "name": "stdout"
        }
      ]
    },
    {
      "cell_type": "markdown",
      "metadata": {
        "id": "7Ww756WToby8",
        "colab_type": "text"
      },
      "source": [
        "## Save the model"
      ]
    },
    {
      "cell_type": "code",
      "metadata": {
        "id": "0lTUpUdwobKW",
        "colab_type": "code",
        "colab": {}
      },
      "source": [
        "model_fname = 'cats_and_dogs_small_7.h7' \n",
        "model.save(model_fname)"
      ],
      "execution_count": 0,
      "outputs": []
    },
    {
      "cell_type": "code",
      "metadata": {
        "id": "YhEoI8ZTok-X",
        "colab_type": "code",
        "colab": {}
      },
      "source": [
        "from google.colab import files\n",
        "\n",
        "with open(model_fname, 'r') as f:\n",
        "  files.download(model_fname)"
      ],
      "execution_count": 0,
      "outputs": []
    }
  ]
}