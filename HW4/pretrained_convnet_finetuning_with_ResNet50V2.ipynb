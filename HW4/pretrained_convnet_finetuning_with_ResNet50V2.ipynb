{
  "nbformat": 4,
  "nbformat_minor": 0,
  "metadata": {
    "colab": {
      "name": "pretrained_convnet_finetuning with ResNet50V2.ipynb",
      "provenance": [],
      "include_colab_link": true
    },
    "kernelspec": {
      "name": "python3",
      "display_name": "Python 3"
    },
    "accelerator": "GPU"
  },
  "cells": [
    {
      "cell_type": "markdown",
      "metadata": {
        "id": "view-in-github",
        "colab_type": "text"
      },
      "source": [
        "<a href=\"https://colab.research.google.com/github/SecondThread/MachineLearningClass/blob/master/HW4/pretrained_convnet_finetuning_with_ResNet50V2.ipynb\" target=\"_parent\"><img src=\"https://colab.research.google.com/assets/colab-badge.svg\" alt=\"Open In Colab\"/></a>"
      ]
    },
    {
      "cell_type": "markdown",
      "metadata": {
        "id": "KSrgMJ5vKFzQ",
        "colab_type": "text"
      },
      "source": [
        "# Fine-tuning ResNet50V2 "
      ]
    },
    {
      "cell_type": "markdown",
      "metadata": {
        "id": "TIW7bZaAK-Hf",
        "colab_type": "text"
      },
      "source": [
        "This is based on section 5.3 *Using a pretrained convnet* of the book *Deep learning with Python* by Francois Chollet and on the pretrained_convnent_finetuning document made for this class. I have made several changes to that code.\n",
        "\n",
        "I use ResNet50V2 in this section, with a single dense layer of 256 nodes for the classifier and no dropout. This achieve a final accuracy of ~95.4%, which is disappointingly lower than before the conv_base was unlocked."
      ]
    },
    {
      "cell_type": "markdown",
      "metadata": {
        "id": "BqIG8QHMLNOn",
        "colab_type": "text"
      },
      "source": [
        "## Download the data"
      ]
    },
    {
      "cell_type": "markdown",
      "metadata": {
        "id": "t3I1jd7cKV6_",
        "colab_type": "text"
      },
      "source": [
        "Download the example data, a zip. of 2,000 JPG pictures of cats and dogs and extract it locally in ```/tmp```.\n",
        "\n"
      ]
    },
    {
      "cell_type": "code",
      "metadata": {
        "id": "JWjprHEXJ5Qi",
        "colab_type": "code",
        "outputId": "9e3a55d6-4a79-409b-e49b-b6a0d1cac70c",
        "colab": {
          "base_uri": "https://localhost:8080/",
          "height": 219
        }
      },
      "source": [
        "!wget --no-check-certificate \\\n",
        "    https://storage.googleapis.com/mledu-datasets/cats_and_dogs_filtered.zip \\\n",
        "    -O /tmp/cats_and_dogs_filtered.zip"
      ],
      "execution_count": 0,
      "outputs": [
        {
          "output_type": "stream",
          "text": [
            "--2020-04-21 03:54:59--  https://storage.googleapis.com/mledu-datasets/cats_and_dogs_filtered.zip\n",
            "Resolving storage.googleapis.com (storage.googleapis.com)... 172.217.5.80, 2607:f8b0:4007:803::2010\n",
            "Connecting to storage.googleapis.com (storage.googleapis.com)|172.217.5.80|:443... connected.\n",
            "HTTP request sent, awaiting response... 200 OK\n",
            "Length: 68606236 (65M) [application/zip]\n",
            "Saving to: ‘/tmp/cats_and_dogs_filtered.zip’\n",
            "\n",
            "\r          /tmp/cats   0%[                    ]       0  --.-KB/s               \r         /tmp/cats_  12%[=>                  ]   8.01M  25.4MB/s               \r        /tmp/cats_a  53%[=========>          ]  34.69M  67.3MB/s               \r/tmp/cats_and_dogs_ 100%[===================>]  65.43M   107MB/s    in 0.6s    \n",
            "\n",
            "2020-04-21 03:55:00 (107 MB/s) - ‘/tmp/cats_and_dogs_filtered.zip’ saved [68606236/68606236]\n",
            "\n"
          ],
          "name": "stdout"
        }
      ]
    },
    {
      "cell_type": "code",
      "metadata": {
        "id": "WvoHtdA-K6Rw",
        "colab_type": "code",
        "colab": {}
      },
      "source": [
        "import os\n",
        "import zipfile\n",
        "\n",
        "local_zip = '/tmp/cats_and_dogs_filtered.zip'\n",
        "zip_ref = zipfile.ZipFile(local_zip, 'r')\n",
        "zip_ref.extractall('/tmp')\n",
        "zip_ref.close()"
      ],
      "execution_count": 0,
      "outputs": []
    },
    {
      "cell_type": "markdown",
      "metadata": {
        "id": "shZiOBnJMyy_",
        "colab_type": "text"
      },
      "source": [
        "Note that the data provided by Google does not have a test set."
      ]
    },
    {
      "cell_type": "code",
      "metadata": {
        "id": "dL8ikM89LlsH",
        "colab_type": "code",
        "colab": {}
      },
      "source": [
        "base_dir = '/tmp/cats_and_dogs_filtered'\n",
        "train_dir = os.path.join(base_dir, 'train')\n",
        "validation_dir = os.path.join(base_dir, 'validation')\n",
        "\n",
        "# Directory with our training cat pictures\n",
        "train_cats_dir = os.path.join(train_dir, 'cats')\n",
        "\n",
        "# Directory with our training dog pictures\n",
        "train_dogs_dir = os.path.join(train_dir, 'dogs')\n",
        "\n",
        "# Directory with our validation cat pictures\n",
        "validation_cats_dir = os.path.join(validation_dir, 'cats')\n",
        "\n",
        "# Directory with our validation dog pictures\n",
        "validation_dogs_dir = os.path.join(validation_dir, 'dogs')"
      ],
      "execution_count": 0,
      "outputs": []
    },
    {
      "cell_type": "markdown",
      "metadata": {
        "id": "inyP8bcdXnn-",
        "colab_type": "text"
      },
      "source": [
        "## Build network with ResNet50V2 convolution base and custom densely connected layers"
      ]
    },
    {
      "cell_type": "markdown",
      "metadata": {
        "id": "kQ48W5T9rHWu",
        "colab_type": "text"
      },
      "source": [
        "### Load the convolutional base"
      ]
    },
    {
      "cell_type": "code",
      "metadata": {
        "id": "Y0FgtANCXm_H",
        "colab_type": "code",
        "colab": {}
      },
      "source": [
        "from keras.applications.resnet_v2 import ResNet50V2\n",
        "\n",
        "conv_base = ResNet50V2(\n",
        "    weights='imagenet', \n",
        "    include_top=False, \n",
        "    input_shape=(150, 150, 3))"
      ],
      "execution_count": 0,
      "outputs": []
    },
    {
      "cell_type": "markdown",
      "metadata": {
        "id": "D6OBHOO9q1ou",
        "colab_type": "text"
      },
      "source": [
        "### Freeze the convolutional base"
      ]
    },
    {
      "cell_type": "code",
      "metadata": {
        "id": "UleRo4Dpq6Ld",
        "colab_type": "code",
        "colab": {}
      },
      "source": [
        "conv_base.trainable = False"
      ],
      "execution_count": 0,
      "outputs": []
    },
    {
      "cell_type": "markdown",
      "metadata": {
        "id": "Qfx6PqhPrb7Q",
        "colab_type": "text"
      },
      "source": [
        "### Concatenate the convolutional base and densely connected layers"
      ]
    },
    {
      "cell_type": "code",
      "metadata": {
        "id": "qUpmocDAO3xm",
        "colab_type": "code",
        "colab": {}
      },
      "source": [
        "from keras import layers\n",
        "from keras import models\n",
        "from keras import optimizers\n",
        "\n",
        "model = models.Sequential()\n",
        "model.add(conv_base)\n",
        "model.add(layers.Flatten())\n",
        "model.add(layers.Dense(256, activation='relu'))\n",
        "#model.add(layers.Dropout(0.1))\n",
        "model.add(layers.Dense(1, activation='sigmoid'))"
      ],
      "execution_count": 0,
      "outputs": []
    },
    {
      "cell_type": "code",
      "metadata": {
        "id": "Fh6gZSeAjF7c",
        "colab_type": "code",
        "outputId": "6328a06b-048b-4442-ac1a-9928912ca9cf",
        "colab": {
          "base_uri": "https://localhost:8080/",
          "height": 311
        }
      },
      "source": [
        "model.summary()"
      ],
      "execution_count": 0,
      "outputs": [
        {
          "output_type": "stream",
          "text": [
            "Model: \"sequential_3\"\n",
            "_________________________________________________________________\n",
            "Layer (type)                 Output Shape              Param #   \n",
            "=================================================================\n",
            "resnet50v2 (Model)           (None, 5, 5, 2048)        23564800  \n",
            "_________________________________________________________________\n",
            "flatten_3 (Flatten)          (None, 51200)             0         \n",
            "_________________________________________________________________\n",
            "dense_5 (Dense)              (None, 256)               13107456  \n",
            "_________________________________________________________________\n",
            "dense_6 (Dense)              (None, 1)                 257       \n",
            "=================================================================\n",
            "Total params: 36,672,513\n",
            "Trainable params: 13,107,713\n",
            "Non-trainable params: 23,564,800\n",
            "_________________________________________________________________\n"
          ],
          "name": "stdout"
        }
      ]
    },
    {
      "cell_type": "markdown",
      "metadata": {
        "id": "eZjBiddhi5Qj",
        "colab_type": "text"
      },
      "source": [
        "## Train the model end to end with frozen convolutional base"
      ]
    },
    {
      "cell_type": "code",
      "metadata": {
        "id": "tfAQlC2Oi41L",
        "colab_type": "code",
        "outputId": "24816a66-53b1-4888-baa9-d8ad2b60fcc5",
        "colab": {
          "base_uri": "https://localhost:8080/",
          "height": 1000
        }
      },
      "source": [
        "from keras.preprocessing.image import ImageDataGenerator\n",
        "from keras import optimizers\n",
        "\n",
        "# data augmentation\n",
        "train_datagen = ImageDataGenerator(\n",
        "    rescale=1./255, \n",
        "    rotation_range=40,\n",
        "    width_shift_range=0.2,\n",
        "    height_shift_range=0.2,\n",
        "    shear_range=0.2,\n",
        "    zoom_range=0.2,\n",
        "    horizontal_flip=True,\n",
        "    fill_mode='nearest'\n",
        ")\n",
        "\n",
        "train_generator = train_datagen.flow_from_directory(\n",
        "    train_dir,\n",
        "    target_size=(150, 150),\n",
        "    batch_size=20,\n",
        "    class_mode='binary')\n",
        "\n",
        "validation_datagen = ImageDataGenerator(rescale=1./255)\n",
        "\n",
        "validation_generator = validation_datagen.flow_from_directory(\n",
        "    validation_dir,\n",
        "    target_size=(150, 150),\n",
        "    batch_size=20,\n",
        "    class_mode='binary')\n",
        "\n",
        "# compile model\n",
        "model.compile(\n",
        "    loss='binary_crossentropy', \n",
        "    optimizer=optimizers.RMSprop(lr=2e-5), \n",
        "    metrics=['acc'])\n",
        "\n",
        "# train\n",
        "history = model.fit_generator(\n",
        "    train_generator,\n",
        "    steps_per_epoch=100,\n",
        "    epochs=30,\n",
        "    validation_data=validation_generator,\n",
        "    validation_steps=50\n",
        ")"
      ],
      "execution_count": 0,
      "outputs": [
        {
          "output_type": "stream",
          "text": [
            "Found 2000 images belonging to 2 classes.\n",
            "Found 1000 images belonging to 2 classes.\n",
            "Epoch 1/30\n",
            "100/100 [==============================] - 23s 227ms/step - loss: 0.5064 - acc: 0.7570 - val_loss: 3.3813e-04 - val_acc: 0.9520\n",
            "Epoch 2/30\n",
            "100/100 [==============================] - 19s 188ms/step - loss: 0.4236 - acc: 0.8225 - val_loss: 0.1246 - val_acc: 0.9580\n",
            "Epoch 3/30\n",
            "100/100 [==============================] - 19s 186ms/step - loss: 0.3853 - acc: 0.8350 - val_loss: 0.2260 - val_acc: 0.9550\n",
            "Epoch 4/30\n",
            "100/100 [==============================] - 19s 187ms/step - loss: 0.3250 - acc: 0.8660 - val_loss: 0.3448 - val_acc: 0.9620\n",
            "Epoch 5/30\n",
            "100/100 [==============================] - 19s 190ms/step - loss: 0.3077 - acc: 0.8595 - val_loss: 0.0146 - val_acc: 0.9680\n",
            "Epoch 6/30\n",
            "100/100 [==============================] - 19s 188ms/step - loss: 0.3060 - acc: 0.8705 - val_loss: 4.5154e-06 - val_acc: 0.9660\n",
            "Epoch 7/30\n",
            "100/100 [==============================] - 19s 187ms/step - loss: 0.3128 - acc: 0.8655 - val_loss: 0.1735 - val_acc: 0.9640\n",
            "Epoch 8/30\n",
            "100/100 [==============================] - 19s 187ms/step - loss: 0.3135 - acc: 0.8650 - val_loss: 0.0484 - val_acc: 0.9670\n",
            "Epoch 9/30\n",
            "100/100 [==============================] - 19s 188ms/step - loss: 0.2772 - acc: 0.8815 - val_loss: 2.2533e-04 - val_acc: 0.9680\n",
            "Epoch 10/30\n",
            "100/100 [==============================] - 19s 188ms/step - loss: 0.2631 - acc: 0.9010 - val_loss: 0.0095 - val_acc: 0.9650\n",
            "Epoch 11/30\n",
            "100/100 [==============================] - 19s 187ms/step - loss: 0.2435 - acc: 0.8990 - val_loss: 0.0161 - val_acc: 0.9710\n",
            "Epoch 12/30\n",
            "100/100 [==============================] - 19s 188ms/step - loss: 0.2554 - acc: 0.9020 - val_loss: 0.1183 - val_acc: 0.9680\n",
            "Epoch 13/30\n",
            "100/100 [==============================] - 19s 186ms/step - loss: 0.2501 - acc: 0.8995 - val_loss: 0.5991 - val_acc: 0.9710\n",
            "Epoch 14/30\n",
            "100/100 [==============================] - 19s 190ms/step - loss: 0.2595 - acc: 0.9020 - val_loss: 0.0192 - val_acc: 0.9690\n",
            "Epoch 15/30\n",
            "100/100 [==============================] - 19s 187ms/step - loss: 0.2663 - acc: 0.8865 - val_loss: 3.0055e-04 - val_acc: 0.9650\n",
            "Epoch 16/30\n",
            "100/100 [==============================] - 19s 186ms/step - loss: 0.2587 - acc: 0.8990 - val_loss: 1.0899e-04 - val_acc: 0.9710\n",
            "Epoch 17/30\n",
            "100/100 [==============================] - 19s 187ms/step - loss: 0.2642 - acc: 0.8955 - val_loss: 0.0042 - val_acc: 0.9700\n",
            "Epoch 18/30\n",
            "100/100 [==============================] - 19s 189ms/step - loss: 0.2541 - acc: 0.8975 - val_loss: 0.2463 - val_acc: 0.9650\n",
            "Epoch 19/30\n",
            "100/100 [==============================] - 19s 187ms/step - loss: 0.2375 - acc: 0.9080 - val_loss: 0.0090 - val_acc: 0.9670\n",
            "Epoch 20/30\n",
            "100/100 [==============================] - 19s 187ms/step - loss: 0.2388 - acc: 0.9090 - val_loss: 0.0115 - val_acc: 0.9680\n",
            "Epoch 21/30\n",
            "100/100 [==============================] - 19s 188ms/step - loss: 0.2273 - acc: 0.9120 - val_loss: 2.9090 - val_acc: 0.9740\n",
            "Epoch 22/30\n",
            "100/100 [==============================] - 19s 190ms/step - loss: 0.2279 - acc: 0.9040 - val_loss: 0.9505 - val_acc: 0.9710\n",
            "Epoch 23/30\n",
            "100/100 [==============================] - 19s 188ms/step - loss: 0.2275 - acc: 0.9095 - val_loss: 0.0049 - val_acc: 0.9640\n",
            "Epoch 24/30\n",
            "100/100 [==============================] - 19s 186ms/step - loss: 0.2182 - acc: 0.9175 - val_loss: 0.1123 - val_acc: 0.9610\n",
            "Epoch 25/30\n",
            "100/100 [==============================] - 19s 187ms/step - loss: 0.2051 - acc: 0.9220 - val_loss: 0.5362 - val_acc: 0.9710\n",
            "Epoch 26/30\n",
            "100/100 [==============================] - 19s 189ms/step - loss: 0.2146 - acc: 0.9155 - val_loss: 0.7737 - val_acc: 0.9720\n",
            "Epoch 27/30\n",
            "100/100 [==============================] - 19s 190ms/step - loss: 0.2316 - acc: 0.9120 - val_loss: 0.6140 - val_acc: 0.9700\n",
            "Epoch 28/30\n",
            "100/100 [==============================] - 19s 187ms/step - loss: 0.2159 - acc: 0.9100 - val_loss: 0.5258 - val_acc: 0.9650\n",
            "Epoch 29/30\n",
            "100/100 [==============================] - 19s 187ms/step - loss: 0.2133 - acc: 0.9170 - val_loss: 1.1742 - val_acc: 0.9720\n",
            "Epoch 30/30\n",
            "100/100 [==============================] - 19s 189ms/step - loss: 0.2007 - acc: 0.9225 - val_loss: 1.7001e-05 - val_acc: 0.9730\n"
          ],
          "name": "stdout"
        }
      ]
    },
    {
      "cell_type": "markdown",
      "metadata": {
        "id": "xqRc_vHKc92U",
        "colab_type": "text"
      },
      "source": [
        "## Display curves of loss and accuracy during training"
      ]
    },
    {
      "cell_type": "code",
      "metadata": {
        "id": "ybWwdzz9bwuQ",
        "colab_type": "code",
        "outputId": "1a04c2aa-18a4-4b8d-bd1d-f7a165a14da5",
        "colab": {
          "base_uri": "https://localhost:8080/",
          "height": 545
        }
      },
      "source": [
        "%matplotlib inline\n",
        "\n",
        "import matplotlib.pyplot as plt\n",
        "\n",
        "acc = history.history['acc']\n",
        "val_acc = history.history['val_acc']\n",
        "\n",
        "loss = history.history['loss']\n",
        "val_loss = history.history['val_loss']\n",
        "\n",
        "epochs = range(1, len(acc) + 1)\n",
        "\n",
        "# training and validation accuracy\n",
        "\n",
        "plt.plot(epochs, acc, 'bo', label='training acc')\n",
        "plt.plot(epochs, val_acc, 'b', label='validation acc')\n",
        "plt.title('training and validation accuracy')\n",
        "plt.legend()\n",
        "\n",
        "plt.figure()\n",
        "\n",
        "# training and validation loss\n",
        "\n",
        "plt.plot(epochs, loss, 'bo', label='training loss')\n",
        "plt.plot(epochs, val_loss, 'b', label='validation loss')\n",
        "plt.title('training and validation loss')\n",
        "plt.legend()\n",
        "\n",
        "plt.show()"
      ],
      "execution_count": 0,
      "outputs": [
        {
          "output_type": "display_data",
          "data": {
            "image/png": "[encoded data removed]",
            "text/plain": [
              "<Figure size 432x288 with 1 Axes>"
            ]
          },
          "metadata": {
            "tags": [],
            "needs_background": "light"
          }
        },
        {
          "output_type": "display_data",
          "data": {
            "image/png": "[encoded data removed]",
            "text/plain": [
              "<Figure size 432x288 with 1 Axes>"
            ]
          },
          "metadata": {
            "tags": [],
            "needs_background": "light"
          }
        }
      ]
    },
    {
      "cell_type": "markdown",
      "metadata": {
        "id": "lOWsxpey8lN0",
        "colab_type": "text"
      },
      "source": [
        "## Fine-tuning"
      ]
    },
    {
      "cell_type": "code",
      "metadata": {
        "id": "PwkVMx8N8qMw",
        "colab_type": "code",
        "outputId": "b7ebc7fb-8a31-490f-a13f-19c882fa7373",
        "colab": {
          "base_uri": "https://localhost:8080/",
          "height": 1000
        }
      },
      "source": [
        "conv_base.trainable = True\n",
        "\n",
        "set_trainable = False\n",
        "for layer in conv_base.layers:\n",
        "  print(layer.name);\n",
        "  set_trainable |= layer.name == 'conv5_block1_preact_bn';\n",
        "  layer.trainable = set_trainable;\n",
        "  print(set_trainable);\n",
        "  # if layer.name == 'block5_conv1':\n",
        "  #   set_trainable = True\n",
        "  # if set_trainable:\n",
        "  #   layer.trainable = True\n",
        "  # else:\n",
        "  #   layer.trainable = False"
      ],
      "execution_count": 0,
      "outputs": [
        {
          "output_type": "stream",
          "text": [
            "input_3\n",
            "False\n",
            "conv1_pad\n",
            "False\n",
            "conv1_conv\n",
            "False\n",
            "pool1_pad\n",
            "False\n",
            "pool1_pool\n",
            "False\n",
            "conv2_block1_preact_bn\n",
            "False\n",
            "conv2_block1_preact_relu\n",
            "False\n",
            "conv2_block1_1_conv\n",
            "False\n",
            "conv2_block1_1_bn\n",
            "False\n",
            "conv2_block1_1_relu\n",
            "False\n",
            "conv2_block1_2_pad\n",
            "False\n",
            "conv2_block1_2_conv\n",
            "False\n",
            "conv2_block1_2_bn\n",
            "False\n",
            "conv2_block1_2_relu\n",
            "False\n",
            "conv2_block1_0_conv\n",
            "False\n",
            "conv2_block1_3_conv\n",
            "False\n",
            "conv2_block1_out\n",
            "False\n",
            "conv2_block2_preact_bn\n",
            "False\n",
            "conv2_block2_preact_relu\n",
            "False\n",
            "conv2_block2_1_conv\n",
            "False\n",
            "conv2_block2_1_bn\n",
            "False\n",
            "conv2_block2_1_relu\n",
            "False\n",
            "conv2_block2_2_pad\n",
            "False\n",
            "conv2_block2_2_conv\n",
            "False\n",
            "conv2_block2_2_bn\n",
            "False\n",
            "conv2_block2_2_relu\n",
            "False\n",
            "conv2_block2_3_conv\n",
            "False\n",
            "conv2_block2_out\n",
            "False\n",
            "conv2_block3_preact_bn\n",
            "False\n",
            "conv2_block3_preact_relu\n",
            "False\n",
            "conv2_block3_1_conv\n",
            "False\n",
            "conv2_block3_1_bn\n",
            "False\n",
            "conv2_block3_1_relu\n",
            "False\n",
            "conv2_block3_2_pad\n",
            "False\n",
            "conv2_block3_2_conv\n",
            "False\n",
            "conv2_block3_2_bn\n",
            "False\n",
            "conv2_block3_2_relu\n",
            "False\n",
            "max_pooling2d_7\n",
            "False\n",
            "conv2_block3_3_conv\n",
            "False\n",
            "conv2_block3_out\n",
            "False\n",
            "conv3_block1_preact_bn\n",
            "False\n",
            "conv3_block1_preact_relu\n",
            "False\n",
            "conv3_block1_1_conv\n",
            "False\n",
            "conv3_block1_1_bn\n",
            "False\n",
            "conv3_block1_1_relu\n",
            "False\n",
            "conv3_block1_2_pad\n",
            "False\n",
            "conv3_block1_2_conv\n",
            "False\n",
            "conv3_block1_2_bn\n",
            "False\n",
            "conv3_block1_2_relu\n",
            "False\n",
            "conv3_block1_0_conv\n",
            "False\n",
            "conv3_block1_3_conv\n",
            "False\n",
            "conv3_block1_out\n",
            "False\n",
            "conv3_block2_preact_bn\n",
            "False\n",
            "conv3_block2_preact_relu\n",
            "False\n",
            "conv3_block2_1_conv\n",
            "False\n",
            "conv3_block2_1_bn\n",
            "False\n",
            "conv3_block2_1_relu\n",
            "False\n",
            "conv3_block2_2_pad\n",
            "False\n",
            "conv3_block2_2_conv\n",
            "False\n",
            "conv3_block2_2_bn\n",
            "False\n",
            "conv3_block2_2_relu\n",
            "False\n",
            "conv3_block2_3_conv\n",
            "False\n",
            "conv3_block2_out\n",
            "False\n",
            "conv3_block3_preact_bn\n",
            "False\n",
            "conv3_block3_preact_relu\n",
            "False\n",
            "conv3_block3_1_conv\n",
            "False\n",
            "conv3_block3_1_bn\n",
            "False\n",
            "conv3_block3_1_relu\n",
            "False\n",
            "conv3_block3_2_pad\n",
            "False\n",
            "conv3_block3_2_conv\n",
            "False\n",
            "conv3_block3_2_bn\n",
            "False\n",
            "conv3_block3_2_relu\n",
            "False\n",
            "conv3_block3_3_conv\n",
            "False\n",
            "conv3_block3_out\n",
            "False\n",
            "conv3_block4_preact_bn\n",
            "False\n",
            "conv3_block4_preact_relu\n",
            "False\n",
            "conv3_block4_1_conv\n",
            "False\n",
            "conv3_block4_1_bn\n",
            "False\n",
            "conv3_block4_1_relu\n",
            "False\n",
            "conv3_block4_2_pad\n",
            "False\n",
            "conv3_block4_2_conv\n",
            "False\n",
            "conv3_block4_2_bn\n",
            "False\n",
            "conv3_block4_2_relu\n",
            "False\n",
            "max_pooling2d_8\n",
            "False\n",
            "conv3_block4_3_conv\n",
            "False\n",
            "conv3_block4_out\n",
            "False\n",
            "conv4_block1_preact_bn\n",
            "False\n",
            "conv4_block1_preact_relu\n",
            "False\n",
            "conv4_block1_1_conv\n",
            "False\n",
            "conv4_block1_1_bn\n",
            "False\n",
            "conv4_block1_1_relu\n",
            "False\n",
            "conv4_block1_2_pad\n",
            "False\n",
            "conv4_block1_2_conv\n",
            "False\n",
            "conv4_block1_2_bn\n",
            "False\n",
            "conv4_block1_2_relu\n",
            "False\n",
            "conv4_block1_0_conv\n",
            "False\n",
            "conv4_block1_3_conv\n",
            "False\n",
            "conv4_block1_out\n",
            "False\n",
            "conv4_block2_preact_bn\n",
            "False\n",
            "conv4_block2_preact_relu\n",
            "False\n",
            "conv4_block2_1_conv\n",
            "False\n",
            "conv4_block2_1_bn\n",
            "False\n",
            "conv4_block2_1_relu\n",
            "False\n",
            "conv4_block2_2_pad\n",
            "False\n",
            "conv4_block2_2_conv\n",
            "False\n",
            "conv4_block2_2_bn\n",
            "False\n",
            "conv4_block2_2_relu\n",
            "False\n",
            "conv4_block2_3_conv\n",
            "False\n",
            "conv4_block2_out\n",
            "False\n",
            "conv4_block3_preact_bn\n",
            "False\n",
            "conv4_block3_preact_relu\n",
            "False\n",
            "conv4_block3_1_conv\n",
            "False\n",
            "conv4_block3_1_bn\n",
            "False\n",
            "conv4_block3_1_relu\n",
            "False\n",
            "conv4_block3_2_pad\n",
            "False\n",
            "conv4_block3_2_conv\n",
            "False\n",
            "conv4_block3_2_bn\n",
            "False\n",
            "conv4_block3_2_relu\n",
            "False\n",
            "conv4_block3_3_conv\n",
            "False\n",
            "conv4_block3_out\n",
            "False\n",
            "conv4_block4_preact_bn\n",
            "False\n",
            "conv4_block4_preact_relu\n",
            "False\n",
            "conv4_block4_1_conv\n",
            "False\n",
            "conv4_block4_1_bn\n",
            "False\n",
            "conv4_block4_1_relu\n",
            "False\n",
            "conv4_block4_2_pad\n",
            "False\n",
            "conv4_block4_2_conv\n",
            "False\n",
            "conv4_block4_2_bn\n",
            "False\n",
            "conv4_block4_2_relu\n",
            "False\n",
            "conv4_block4_3_conv\n",
            "False\n",
            "conv4_block4_out\n",
            "False\n",
            "conv4_block5_preact_bn\n",
            "False\n",
            "conv4_block5_preact_relu\n",
            "False\n",
            "conv4_block5_1_conv\n",
            "False\n",
            "conv4_block5_1_bn\n",
            "False\n",
            "conv4_block5_1_relu\n",
            "False\n",
            "conv4_block5_2_pad\n",
            "False\n",
            "conv4_block5_2_conv\n",
            "False\n",
            "conv4_block5_2_bn\n",
            "False\n",
            "conv4_block5_2_relu\n",
            "False\n",
            "conv4_block5_3_conv\n",
            "False\n",
            "conv4_block5_out\n",
            "False\n",
            "conv4_block6_preact_bn\n",
            "False\n",
            "conv4_block6_preact_relu\n",
            "False\n",
            "conv4_block6_1_conv\n",
            "False\n",
            "conv4_block6_1_bn\n",
            "False\n",
            "conv4_block6_1_relu\n",
            "False\n",
            "conv4_block6_2_pad\n",
            "False\n",
            "conv4_block6_2_conv\n",
            "False\n",
            "conv4_block6_2_bn\n",
            "False\n",
            "conv4_block6_2_relu\n",
            "False\n",
            "max_pooling2d_9\n",
            "False\n",
            "conv4_block6_3_conv\n",
            "False\n",
            "conv4_block6_out\n",
            "False\n",
            "conv5_block1_preact_bn\n",
            "True\n",
            "conv5_block1_preact_relu\n",
            "True\n",
            "conv5_block1_1_conv\n",
            "True\n",
            "conv5_block1_1_bn\n",
            "True\n",
            "conv5_block1_1_relu\n",
            "True\n",
            "conv5_block1_2_pad\n",
            "True\n",
            "conv5_block1_2_conv\n",
            "True\n",
            "conv5_block1_2_bn\n",
            "True\n",
            "conv5_block1_2_relu\n",
            "True\n",
            "conv5_block1_0_conv\n",
            "True\n",
            "conv5_block1_3_conv\n",
            "True\n",
            "conv5_block1_out\n",
            "True\n",
            "conv5_block2_preact_bn\n",
            "True\n",
            "conv5_block2_preact_relu\n",
            "True\n",
            "conv5_block2_1_conv\n",
            "True\n",
            "conv5_block2_1_bn\n",
            "True\n",
            "conv5_block2_1_relu\n",
            "True\n",
            "conv5_block2_2_pad\n",
            "True\n",
            "conv5_block2_2_conv\n",
            "True\n",
            "conv5_block2_2_bn\n",
            "True\n",
            "conv5_block2_2_relu\n",
            "True\n",
            "conv5_block2_3_conv\n",
            "True\n",
            "conv5_block2_out\n",
            "True\n",
            "conv5_block3_preact_bn\n",
            "True\n",
            "conv5_block3_preact_relu\n",
            "True\n",
            "conv5_block3_1_conv\n",
            "True\n",
            "conv5_block3_1_bn\n",
            "True\n",
            "conv5_block3_1_relu\n",
            "True\n",
            "conv5_block3_2_pad\n",
            "True\n",
            "conv5_block3_2_conv\n",
            "True\n",
            "conv5_block3_2_bn\n",
            "True\n",
            "conv5_block3_2_relu\n",
            "True\n",
            "conv5_block3_3_conv\n",
            "True\n",
            "conv5_block3_out\n",
            "True\n",
            "post_bn\n",
            "True\n",
            "post_relu\n",
            "True\n"
          ],
          "name": "stdout"
        }
      ]
    },
    {
      "cell_type": "code",
      "metadata": {
        "id": "DyN-J7rs9cvo",
        "colab_type": "code",
        "outputId": "230ceb2f-6569-4af3-b826-677535e03531",
        "colab": {
          "base_uri": "https://localhost:8080/",
          "height": 1000
        }
      },
      "source": [
        "# compile model\n",
        "\n",
        "model.compile(\n",
        "    loss='binary_crossentropy',\n",
        "    #\n",
        "    # choose a smaller learning rate\n",
        "    #\n",
        "    optimizer=optimizers.RMSprop(lr=1e-5), \n",
        "    metrics=['acc'])\n",
        "\n",
        "# train\n",
        "\n",
        "history = model.fit_generator(\n",
        "    train_generator,\n",
        "    steps_per_epoch=100,\n",
        "    epochs=100,\n",
        "    validation_data=validation_generator,\n",
        "    validation_steps=50)"
      ],
      "execution_count": 0,
      "outputs": [
        {
          "output_type": "stream",
          "text": [
            "Epoch 1/100\n",
            "100/100 [==============================] - 26s 259ms/step - loss: 0.2253 - acc: 0.9200 - val_loss: 0.0868 - val_acc: 0.9450\n",
            "Epoch 2/100\n",
            "100/100 [==============================] - 21s 208ms/step - loss: 0.1948 - acc: 0.9230 - val_loss: 0.0526 - val_acc: 0.9430\n",
            "Epoch 3/100\n",
            "100/100 [==============================] - 21s 210ms/step - loss: 0.1933 - acc: 0.9245 - val_loss: 0.0767 - val_acc: 0.9440\n",
            "Epoch 4/100\n",
            "100/100 [==============================] - 21s 209ms/step - loss: 0.1711 - acc: 0.9320 - val_loss: 0.3628 - val_acc: 0.9360\n",
            "Epoch 5/100\n",
            "100/100 [==============================] - 21s 211ms/step - loss: 0.1773 - acc: 0.9275 - val_loss: 0.0485 - val_acc: 0.9420\n",
            "Epoch 6/100\n",
            "100/100 [==============================] - 21s 209ms/step - loss: 0.1929 - acc: 0.9250 - val_loss: 0.6723 - val_acc: 0.9420\n",
            "Epoch 7/100\n",
            "100/100 [==============================] - 21s 208ms/step - loss: 0.1474 - acc: 0.9415 - val_loss: 0.0167 - val_acc: 0.9420\n",
            "Epoch 8/100\n",
            "100/100 [==============================] - 21s 208ms/step - loss: 0.1618 - acc: 0.9425 - val_loss: 0.0683 - val_acc: 0.9340\n",
            "Epoch 9/100\n",
            "100/100 [==============================] - 21s 207ms/step - loss: 0.1657 - acc: 0.9365 - val_loss: 0.3180 - val_acc: 0.9450\n",
            "Epoch 10/100\n",
            "100/100 [==============================] - 21s 210ms/step - loss: 0.1676 - acc: 0.9330 - val_loss: 0.1934 - val_acc: 0.9430\n",
            "Epoch 11/100\n",
            "100/100 [==============================] - 21s 208ms/step - loss: 0.1638 - acc: 0.9385 - val_loss: 0.0583 - val_acc: 0.9430\n",
            "Epoch 12/100\n",
            "100/100 [==============================] - 21s 210ms/step - loss: 0.1588 - acc: 0.9435 - val_loss: 0.1918 - val_acc: 0.9450\n",
            "Epoch 13/100\n",
            "100/100 [==============================] - 21s 207ms/step - loss: 0.1298 - acc: 0.9495 - val_loss: 0.2990 - val_acc: 0.9420\n",
            "Epoch 14/100\n",
            "100/100 [==============================] - 21s 210ms/step - loss: 0.1453 - acc: 0.9440 - val_loss: 0.7664 - val_acc: 0.9420\n",
            "Epoch 15/100\n",
            "100/100 [==============================] - 21s 210ms/step - loss: 0.1551 - acc: 0.9415 - val_loss: 0.4942 - val_acc: 0.9420\n",
            "Epoch 16/100\n",
            "100/100 [==============================] - 21s 208ms/step - loss: 0.1262 - acc: 0.9505 - val_loss: 0.4730 - val_acc: 0.9460\n",
            "Epoch 17/100\n",
            "100/100 [==============================] - 21s 209ms/step - loss: 0.1107 - acc: 0.9545 - val_loss: 0.0829 - val_acc: 0.9390\n",
            "Epoch 18/100\n",
            "100/100 [==============================] - 21s 211ms/step - loss: 0.1175 - acc: 0.9500 - val_loss: 0.0189 - val_acc: 0.9450\n",
            "Epoch 19/100\n",
            "100/100 [==============================] - 21s 209ms/step - loss: 0.0990 - acc: 0.9645 - val_loss: 0.1359 - val_acc: 0.9490\n",
            "Epoch 20/100\n",
            "100/100 [==============================] - 21s 211ms/step - loss: 0.1368 - acc: 0.9530 - val_loss: 0.1624 - val_acc: 0.9410\n",
            "Epoch 21/100\n",
            "100/100 [==============================] - 21s 209ms/step - loss: 0.1108 - acc: 0.9615 - val_loss: 0.1433 - val_acc: 0.9470\n",
            "Epoch 22/100\n",
            "100/100 [==============================] - 21s 208ms/step - loss: 0.1122 - acc: 0.9545 - val_loss: 0.0271 - val_acc: 0.9490\n",
            "Epoch 23/100\n",
            "100/100 [==============================] - 21s 210ms/step - loss: 0.1279 - acc: 0.9540 - val_loss: 0.0779 - val_acc: 0.9450\n",
            "Epoch 24/100\n",
            "100/100 [==============================] - 21s 210ms/step - loss: 0.1152 - acc: 0.9595 - val_loss: 0.0468 - val_acc: 0.9500\n",
            "Epoch 25/100\n",
            "100/100 [==============================] - 21s 209ms/step - loss: 0.1132 - acc: 0.9625 - val_loss: 0.1932 - val_acc: 0.9480\n",
            "Epoch 26/100\n",
            "100/100 [==============================] - 21s 210ms/step - loss: 0.1024 - acc: 0.9575 - val_loss: 0.0947 - val_acc: 0.9500\n",
            "Epoch 27/100\n",
            "100/100 [==============================] - 21s 208ms/step - loss: 0.1138 - acc: 0.9645 - val_loss: 0.2344 - val_acc: 0.9520\n",
            "Epoch 28/100\n",
            "100/100 [==============================] - 21s 214ms/step - loss: 0.1252 - acc: 0.9570 - val_loss: 0.3140 - val_acc: 0.9530\n",
            "Epoch 29/100\n",
            "100/100 [==============================] - 21s 214ms/step - loss: 0.0935 - acc: 0.9615 - val_loss: 0.0979 - val_acc: 0.9510\n",
            "Epoch 30/100\n",
            "100/100 [==============================] - 21s 211ms/step - loss: 0.1081 - acc: 0.9620 - val_loss: 0.2908 - val_acc: 0.9490\n",
            "Epoch 31/100\n",
            "100/100 [==============================] - 21s 208ms/step - loss: 0.0747 - acc: 0.9710 - val_loss: 0.0890 - val_acc: 0.9480\n",
            "Epoch 32/100\n",
            "100/100 [==============================] - 21s 210ms/step - loss: 0.1013 - acc: 0.9600 - val_loss: 0.0344 - val_acc: 0.9520\n",
            "Epoch 33/100\n",
            "100/100 [==============================] - 21s 211ms/step - loss: 0.0991 - acc: 0.9630 - val_loss: 0.1106 - val_acc: 0.9510\n",
            "Epoch 34/100\n",
            "100/100 [==============================] - 21s 210ms/step - loss: 0.0771 - acc: 0.9765 - val_loss: 0.3502 - val_acc: 0.9520\n",
            "Epoch 35/100\n",
            "100/100 [==============================] - 21s 210ms/step - loss: 0.1021 - acc: 0.9655 - val_loss: 0.0158 - val_acc: 0.9510\n",
            "Epoch 36/100\n",
            "100/100 [==============================] - 21s 207ms/step - loss: 0.0862 - acc: 0.9680 - val_loss: 0.0618 - val_acc: 0.9490\n",
            "Epoch 37/100\n",
            "100/100 [==============================] - 21s 209ms/step - loss: 0.0872 - acc: 0.9670 - val_loss: 0.1766 - val_acc: 0.9480\n",
            "Epoch 38/100\n",
            "100/100 [==============================] - 21s 211ms/step - loss: 0.1036 - acc: 0.9740 - val_loss: 0.2698 - val_acc: 0.9460\n",
            "Epoch 39/100\n",
            "100/100 [==============================] - 21s 208ms/step - loss: 0.0880 - acc: 0.9690 - val_loss: 0.2283 - val_acc: 0.9480\n",
            "Epoch 40/100\n",
            "100/100 [==============================] - 21s 208ms/step - loss: 0.0974 - acc: 0.9660 - val_loss: 0.0326 - val_acc: 0.9450\n",
            "Epoch 41/100\n",
            "100/100 [==============================] - 21s 209ms/step - loss: 0.0772 - acc: 0.9715 - val_loss: 0.4583 - val_acc: 0.9540\n",
            "Epoch 42/100\n",
            "100/100 [==============================] - 21s 209ms/step - loss: 0.0791 - acc: 0.9740 - val_loss: 0.1206 - val_acc: 0.9520\n",
            "Epoch 43/100\n",
            "100/100 [==============================] - 21s 207ms/step - loss: 0.0932 - acc: 0.9670 - val_loss: 0.1440 - val_acc: 0.9540\n",
            "Epoch 44/100\n",
            "100/100 [==============================] - 21s 209ms/step - loss: 0.0867 - acc: 0.9685 - val_loss: 0.2540 - val_acc: 0.9490\n",
            "Epoch 45/100\n",
            "100/100 [==============================] - 21s 209ms/step - loss: 0.0781 - acc: 0.9695 - val_loss: 0.0238 - val_acc: 0.9540\n",
            "Epoch 46/100\n",
            "100/100 [==============================] - 21s 207ms/step - loss: 0.0654 - acc: 0.9765 - val_loss: 0.0452 - val_acc: 0.9550\n",
            "Epoch 47/100\n",
            "100/100 [==============================] - 21s 208ms/step - loss: 0.0717 - acc: 0.9800 - val_loss: 6.5989e-04 - val_acc: 0.9530\n",
            "Epoch 48/100\n",
            "100/100 [==============================] - 21s 210ms/step - loss: 0.0908 - acc: 0.9675 - val_loss: 0.0463 - val_acc: 0.9470\n",
            "Epoch 49/100\n",
            "100/100 [==============================] - 21s 212ms/step - loss: 0.0754 - acc: 0.9690 - val_loss: 0.1720 - val_acc: 0.9500\n",
            "Epoch 50/100\n",
            "100/100 [==============================] - 21s 210ms/step - loss: 0.0718 - acc: 0.9765 - val_loss: 0.0067 - val_acc: 0.9510\n",
            "Epoch 51/100\n",
            "100/100 [==============================] - 21s 210ms/step - loss: 0.0898 - acc: 0.9710 - val_loss: 0.5565 - val_acc: 0.9440\n",
            "Epoch 52/100\n",
            "100/100 [==============================] - 21s 213ms/step - loss: 0.0612 - acc: 0.9775 - val_loss: 0.8792 - val_acc: 0.9490\n",
            "Epoch 53/100\n",
            "100/100 [==============================] - 21s 212ms/step - loss: 0.0657 - acc: 0.9760 - val_loss: 0.3994 - val_acc: 0.9450\n",
            "Epoch 54/100\n",
            "100/100 [==============================] - 21s 212ms/step - loss: 0.0740 - acc: 0.9730 - val_loss: 0.1879 - val_acc: 0.9450\n",
            "Epoch 55/100\n",
            "100/100 [==============================] - 21s 212ms/step - loss: 0.0610 - acc: 0.9765 - val_loss: 0.0430 - val_acc: 0.9410\n",
            "Epoch 56/100\n",
            "100/100 [==============================] - 21s 215ms/step - loss: 0.0864 - acc: 0.9700 - val_loss: 0.0035 - val_acc: 0.9530\n",
            "Epoch 57/100\n",
            "100/100 [==============================] - 21s 212ms/step - loss: 0.0817 - acc: 0.9740 - val_loss: 0.0018 - val_acc: 0.9510\n",
            "Epoch 58/100\n",
            "100/100 [==============================] - 21s 210ms/step - loss: 0.0620 - acc: 0.9765 - val_loss: 0.1514 - val_acc: 0.9470\n",
            "Epoch 59/100\n",
            "100/100 [==============================] - 21s 213ms/step - loss: 0.0667 - acc: 0.9780 - val_loss: 0.4604 - val_acc: 0.9470\n",
            "Epoch 60/100\n",
            "100/100 [==============================] - 21s 213ms/step - loss: 0.0647 - acc: 0.9780 - val_loss: 0.1251 - val_acc: 0.9440\n",
            "Epoch 61/100\n",
            "100/100 [==============================] - 21s 213ms/step - loss: 0.0567 - acc: 0.9810 - val_loss: 0.0094 - val_acc: 0.9500\n",
            "Epoch 62/100\n",
            "100/100 [==============================] - 21s 214ms/step - loss: 0.0598 - acc: 0.9815 - val_loss: 0.0123 - val_acc: 0.9500\n",
            "Epoch 63/100\n",
            "100/100 [==============================] - 22s 217ms/step - loss: 0.0672 - acc: 0.9745 - val_loss: 0.6819 - val_acc: 0.9430\n",
            "Epoch 64/100\n",
            "100/100 [==============================] - 22s 217ms/step - loss: 0.0537 - acc: 0.9815 - val_loss: 0.0083 - val_acc: 0.9460\n",
            "Epoch 65/100\n",
            "100/100 [==============================] - 21s 214ms/step - loss: 0.0506 - acc: 0.9845 - val_loss: 1.9010e-06 - val_acc: 0.9450\n",
            "Epoch 66/100\n",
            "100/100 [==============================] - 22s 217ms/step - loss: 0.0742 - acc: 0.9775 - val_loss: 3.7852e-04 - val_acc: 0.9510\n",
            "Epoch 67/100\n",
            "100/100 [==============================] - 22s 218ms/step - loss: 0.0565 - acc: 0.9790 - val_loss: 0.1544 - val_acc: 0.9480\n",
            "Epoch 68/100\n",
            "100/100 [==============================] - 22s 218ms/step - loss: 0.0589 - acc: 0.9835 - val_loss: 0.1685 - val_acc: 0.9490\n",
            "Epoch 69/100\n",
            "100/100 [==============================] - 22s 218ms/step - loss: 0.0671 - acc: 0.9755 - val_loss: 9.6555e-05 - val_acc: 0.9440\n",
            "Epoch 70/100\n",
            "100/100 [==============================] - 22s 217ms/step - loss: 0.0537 - acc: 0.9825 - val_loss: 1.7658 - val_acc: 0.9400\n",
            "Epoch 71/100\n",
            "100/100 [==============================] - 22s 216ms/step - loss: 0.0589 - acc: 0.9810 - val_loss: 0.2870 - val_acc: 0.9420\n",
            "Epoch 72/100\n",
            "100/100 [==============================] - 22s 217ms/step - loss: 0.0515 - acc: 0.9850 - val_loss: 0.0091 - val_acc: 0.9390\n",
            "Epoch 73/100\n",
            "100/100 [==============================] - 21s 213ms/step - loss: 0.0495 - acc: 0.9865 - val_loss: 0.0522 - val_acc: 0.9410\n",
            "Epoch 74/100\n",
            "100/100 [==============================] - 21s 215ms/step - loss: 0.0547 - acc: 0.9830 - val_loss: 0.2101 - val_acc: 0.9460\n",
            "Epoch 75/100\n",
            "100/100 [==============================] - 22s 216ms/step - loss: 0.0442 - acc: 0.9840 - val_loss: 0.1574 - val_acc: 0.9460\n",
            "Epoch 76/100\n",
            "100/100 [==============================] - 21s 215ms/step - loss: 0.0629 - acc: 0.9800 - val_loss: 0.2451 - val_acc: 0.9470\n",
            "Epoch 77/100\n",
            "100/100 [==============================] - 21s 214ms/step - loss: 0.0446 - acc: 0.9815 - val_loss: 0.0734 - val_acc: 0.9480\n",
            "Epoch 78/100\n",
            "100/100 [==============================] - 21s 215ms/step - loss: 0.0390 - acc: 0.9830 - val_loss: 1.5704e-04 - val_acc: 0.9450\n",
            "Epoch 79/100\n",
            "100/100 [==============================] - 22s 220ms/step - loss: 0.0629 - acc: 0.9810 - val_loss: 0.1926 - val_acc: 0.9440\n",
            "Epoch 80/100\n",
            "100/100 [==============================] - 21s 213ms/step - loss: 0.0438 - acc: 0.9835 - val_loss: 0.1661 - val_acc: 0.9480\n",
            "Epoch 81/100\n",
            "100/100 [==============================] - 22s 220ms/step - loss: 0.0404 - acc: 0.9850 - val_loss: 2.0395e-05 - val_acc: 0.9450\n",
            "Epoch 82/100\n",
            "100/100 [==============================] - 22s 221ms/step - loss: 0.0632 - acc: 0.9820 - val_loss: 0.0144 - val_acc: 0.9460\n",
            "Epoch 83/100\n",
            "100/100 [==============================] - 22s 224ms/step - loss: 0.0464 - acc: 0.9850 - val_loss: 0.1935 - val_acc: 0.9530\n",
            "Epoch 84/100\n",
            "100/100 [==============================] - 21s 214ms/step - loss: 0.0453 - acc: 0.9850 - val_loss: 0.2061 - val_acc: 0.9510\n",
            "Epoch 85/100\n",
            "100/100 [==============================] - 22s 219ms/step - loss: 0.0423 - acc: 0.9825 - val_loss: 0.4467 - val_acc: 0.9480\n",
            "Epoch 86/100\n",
            "100/100 [==============================] - 22s 219ms/step - loss: 0.0634 - acc: 0.9790 - val_loss: 1.0729 - val_acc: 0.9460\n",
            "Epoch 87/100\n",
            "100/100 [==============================] - 22s 216ms/step - loss: 0.0465 - acc: 0.9865 - val_loss: 1.3775 - val_acc: 0.9440\n",
            "Epoch 88/100\n",
            "100/100 [==============================] - 22s 217ms/step - loss: 0.0561 - acc: 0.9840 - val_loss: 0.3105 - val_acc: 0.9450\n",
            "Epoch 89/100\n",
            "100/100 [==============================] - 22s 215ms/step - loss: 0.0451 - acc: 0.9860 - val_loss: 0.1339 - val_acc: 0.9450\n",
            "Epoch 90/100\n",
            "100/100 [==============================] - 22s 219ms/step - loss: 0.0333 - acc: 0.9890 - val_loss: 0.1279 - val_acc: 0.9490\n",
            "Epoch 91/100\n",
            "100/100 [==============================] - 22s 218ms/step - loss: 0.0502 - acc: 0.9835 - val_loss: 4.2368e-04 - val_acc: 0.9440\n",
            "Epoch 92/100\n",
            "100/100 [==============================] - 22s 217ms/step - loss: 0.0513 - acc: 0.9835 - val_loss: 0.8368 - val_acc: 0.9480\n",
            "Epoch 93/100\n",
            "100/100 [==============================] - 22s 219ms/step - loss: 0.0531 - acc: 0.9805 - val_loss: 0.0049 - val_acc: 0.9440\n",
            "Epoch 94/100\n",
            "100/100 [==============================] - 22s 218ms/step - loss: 0.0414 - acc: 0.9855 - val_loss: 0.1439 - val_acc: 0.9460\n",
            "Epoch 95/100\n",
            "100/100 [==============================] - 22s 219ms/step - loss: 0.0456 - acc: 0.9890 - val_loss: 0.2688 - val_acc: 0.9450\n",
            "Epoch 96/100\n",
            "100/100 [==============================] - 22s 216ms/step - loss: 0.0704 - acc: 0.9805 - val_loss: 0.0010 - val_acc: 0.9480\n",
            "Epoch 97/100\n",
            "100/100 [==============================] - 22s 220ms/step - loss: 0.0536 - acc: 0.9805 - val_loss: 0.0855 - val_acc: 0.9440\n",
            "Epoch 98/100\n",
            "100/100 [==============================] - 22s 216ms/step - loss: 0.0542 - acc: 0.9850 - val_loss: 0.0298 - val_acc: 0.9510\n",
            "Epoch 99/100\n",
            "100/100 [==============================] - 22s 217ms/step - loss: 0.0347 - acc: 0.9860 - val_loss: 0.5162 - val_acc: 0.9480\n",
            "Epoch 100/100\n",
            "100/100 [==============================] - 22s 218ms/step - loss: 0.0375 - acc: 0.9850 - val_loss: 0.0222 - val_acc: 0.9540\n"
          ],
          "name": "stdout"
        }
      ]
    },
    {
      "cell_type": "markdown",
      "metadata": {
        "id": "eVBQgh5M-Rtz",
        "colab_type": "text"
      },
      "source": [
        "## Display learning curves during fine-tuning"
      ]
    },
    {
      "cell_type": "code",
      "metadata": {
        "id": "mbkIw7Ie-NP4",
        "colab_type": "code",
        "outputId": "6d0f5c51-0cd7-4649-a718-8bea8da054db",
        "colab": {
          "base_uri": "https://localhost:8080/",
          "height": 545
        }
      },
      "source": [
        "%matplotlib inline\n",
        "\n",
        "import matplotlib.pyplot as plt\n",
        "\n",
        "acc = history.history['acc']\n",
        "val_acc = history.history['val_acc']\n",
        "\n",
        "loss = history.history['loss']\n",
        "val_loss = history.history['val_loss']\n",
        "\n",
        "epochs = range(1, len(acc) + 1)\n",
        "\n",
        "# training and validation accuracy\n",
        "\n",
        "plt.plot(epochs, acc, 'bo', label='training acc')\n",
        "plt.plot(epochs, val_acc, 'b', label='validation acc')\n",
        "plt.title('training and validation accuracy')\n",
        "plt.legend()\n",
        "\n",
        "plt.figure()\n",
        "\n",
        "# training and validation loss\n",
        "\n",
        "plt.plot(epochs, loss, 'bo', label='training loss')\n",
        "plt.plot(epochs, val_loss, 'b', label='validation loss')\n",
        "plt.title('training and validation loss')\n",
        "plt.legend()\n",
        "\n",
        "plt.show()"
      ],
      "execution_count": 0,
      "outputs": [
        {
          "output_type": "display_data",
          "data": {
            "image/png": "[encoded data removed]",
            "text/plain": [
              "<Figure size 432x288 with 1 Axes>"
            ]
          },
          "metadata": {
            "tags": [],
            "needs_background": "light"
          }
        },
        {
          "output_type": "display_data",
          "data": {
            "image/png": "[encoded data removed]",
            "text/plain": [
              "<Figure size 432x288 with 1 Axes>"
            ]
          },
          "metadata": {
            "tags": [],
            "needs_background": "light"
          }
        }
      ]
    },
    {
      "cell_type": "markdown",
      "metadata": {
        "id": "obQi6N4ZShdi",
        "colab_type": "text"
      },
      "source": [
        "This looks like overfitting. I should try  adding dropout for the densely connected layer."
      ]
    },
    {
      "cell_type": "markdown",
      "metadata": {
        "id": "he3Nw6TOJwjx",
        "colab_type": "text"
      },
      "source": [
        "## Print out validation loss and accuracy"
      ]
    },
    {
      "cell_type": "code",
      "metadata": {
        "id": "SVQtrk7uJdhl",
        "colab_type": "code",
        "colab": {}
      },
      "source": [
        "val_loss, val_acc = model.evaluate_generator(validation_generator, steps=50)"
      ],
      "execution_count": 0,
      "outputs": []
    },
    {
      "cell_type": "code",
      "metadata": {
        "id": "HpdddLi1SUMe",
        "colab_type": "code",
        "outputId": "479fdf4d-ec96-4e12-df5c-ef3bafa7345d",
        "colab": {
          "base_uri": "https://localhost:8080/",
          "height": 54
        }
      },
      "source": [
        "print(\"Validation loss:\", val_loss)\n",
        "print(\"Validation accuracy:\", val_acc)"
      ],
      "execution_count": 0,
      "outputs": [
        {
          "output_type": "stream",
          "text": [
            "Validation loss: 0.00044746819185093045\n",
            "Validation accuracy: 0.9539999961853027\n"
          ],
          "name": "stdout"
        }
      ]
    },
    {
      "cell_type": "markdown",
      "metadata": {
        "id": "7Ww756WToby8",
        "colab_type": "text"
      },
      "source": [
        "## Save the model"
      ]
    },
    {
      "cell_type": "code",
      "metadata": {
        "id": "0lTUpUdwobKW",
        "colab_type": "code",
        "colab": {}
      },
      "source": [
        "model_fname = 'cats_and_dogs_small_5.h5' \n",
        "model.save(model_fname)"
      ],
      "execution_count": 0,
      "outputs": []
    },
    {
      "cell_type": "code",
      "metadata": {
        "id": "YhEoI8ZTok-X",
        "colab_type": "code",
        "outputId": "fda84b24-584b-423c-aa2d-6830c06a51df",
        "colab": {
          "base_uri": "https://localhost:8080/",
          "height": 17
        }
      },
      "source": [
        "from google.colab import files\n",
        "\n",
        "with open(model_fname, 'r') as f:\n",
        "  files.download(model_fname)"
      ],
      "execution_count": 0,
      "outputs": [
        {
          "output_type": "stream",
          "text": [
            "----------------------------------------\n",
            "Exception happened during processing of request from ('::ffff:127.0.0.1', 50028, 0, 0)\n",
            "Traceback (most recent call last):\n",
            "  File \"/usr/lib/python3.6/socketserver.py\", line 320, in _handle_request_noblock\n",
            "    self.process_request(request, client_address)\n",
            "  File \"/usr/lib/python3.6/socketserver.py\", line 351, in process_request\n",
            "    self.finish_request(request, client_address)\n",
            "  File \"/usr/lib/python3.6/socketserver.py\", line 364, in finish_request\n",
            "    self.RequestHandlerClass(request, client_address, self)\n",
            "  File \"/usr/lib/python3.6/socketserver.py\", line 724, in __init__\n",
            "    self.handle()\n",
            "  File \"/usr/lib/python3.6/http/server.py\", line 418, in handle\n",
            "    self.handle_one_request()\n",
            "  File \"/usr/lib/python3.6/http/server.py\", line 406, in handle_one_request\n",
            "    method()\n",
            "  File \"/usr/lib/python3.6/http/server.py\", line 639, in do_GET\n",
            "    self.copyfile(f, self.wfile)\n",
            "  File \"/usr/lib/python3.6/http/server.py\", line 800, in copyfile\n",
            "    shutil.copyfileobj(source, outputfile)\n",
            "  File \"/usr/lib/python3.6/shutil.py\", line 82, in copyfileobj\n",
            "    fdst.write(buf)\n",
            "  File \"/usr/lib/python3.6/socketserver.py\", line 803, in write\n",
            "    self._sock.sendall(b)\n",
            "ConnectionResetError: [Errno 104] Connection reset by peer\n",
            "----------------------------------------\n"
          ],
          "name": "stderr"
        }
      ]
    },
    {
      "cell_type": "code",
      "metadata": {
        "id": "VNEL4CCcS0Oj",
        "colab_type": "code",
        "colab": {}
      },
      "source": [
        ""
      ],
      "execution_count": 0,
      "outputs": []
    }
  ]
}