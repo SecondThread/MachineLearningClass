{
  "nbformat": 4,
  "nbformat_minor": 0,
  "metadata": {
    "colab": {
      "name": "Homework4.ipynb",
      "provenance": [],
      "authorship_tag": "ABX9TyPfEtHYa1ROk9DfUbkJJs6N",
      "include_colab_link": true
    },
    "kernelspec": {
      "name": "python3",
      "display_name": "Python 3"
    }
  },
  "cells": [
    {
      "cell_type": "markdown",
      "metadata": {
        "id": "view-in-github",
        "colab_type": "text"
      },
      "source": [
        "<a href=\"https://colab.research.google.com/github/SecondThread/MachineLearningClass/blob/master/HW4/Homework4.ipynb\" target=\"_parent\"><img src=\"https://colab.research.google.com/assets/colab-badge.svg\" alt=\"Open In Colab\"/></a>"
      ]
    },
    {
      "cell_type": "markdown",
      "metadata": {
        "id": "BeCV87mTIL27",
        "colab_type": "text"
      },
      "source": [
        "#Problem 1: Square Kernal Convolution with Legal Padding\n",
        "\n",
        "I have implemented the method conv2d, along with two custom exceptions for when\n",
        "illegal input is given. The three cases for illegal input, as specified by the\n",
        "problem are:\n",
        "  - There are no legal places to put the kernal because the kernal is too big\n",
        "  - The input matrix isn't square\n",
        "  - The kernal isn't square"
      ]
    },
    {
      "cell_type": "code",
      "metadata": {
        "id": "dL1SlHrrCssg",
        "colab_type": "code",
        "outputId": "67e49d36-b761-4b39-e669-a703850c1664",
        "colab": {
          "base_uri": "https://localhost:8080/",
          "height": 90
        }
      },
      "source": [
        "import numpy as np;\n",
        "\n",
        "class NonsquareShapeError(Exception):\n",
        "  pass;\n",
        "\n",
        "class KernalTooBigError(Exception):\n",
        "  pass;\n",
        "\n",
        "def conv2d(input_mat, kernal_mat):\n",
        "  input_shape, kernal_shape = input_mat.shape, kernal_mat.shape;\n",
        "  if input_shape[0] != input_shape[1]:\n",
        "    raise NonsquareShapeError(\"The input matrix isn't square as specified in \" +\n",
        "    \"the assignment!\");\n",
        "  if kernal_shape[0] != kernal_shape[1]:\n",
        "    raise NonsquareShapeError(\"The kernal matrix isn't square as specified in \"+\n",
        "    \"the assignment!\");\n",
        "  if (input_shape[0]<kernal_shape[0]):\n",
        "    raise KernalTooBigError(\"The size of the kernal is larger than the size \"+\n",
        "    \"of the the input matrix, so the kernal cannot be convolved using \"+\n",
        "    \"legal padding!\");\n",
        "\n",
        "  output_size=input_shape[0]-kernal_shape[0]+1;\n",
        "  ans=np.zeros((output_size, output_size));\n",
        "  for input_x in range(0, output_size):\n",
        "    for input_y in range(0, output_size):\n",
        "      total=0;\n",
        "      for kernal_x in range(0, kernal_shape[0]):\n",
        "        for kernal_y in range(0, kernal_shape[0]):\n",
        "          total+=kernal_mat[kernal_x][kernal_y]*input_mat[input_x+kernal_x][input_y+kernal_y];\n",
        "      ans[input_x][input_y]=total;\n",
        "  return ans;\n",
        "\n",
        "res=conv2d(np.zeros((5, 5)), np.zeros((2, 2)));\n",
        "print(res);"
      ],
      "execution_count": 0,
      "outputs": [
        {
          "output_type": "stream",
          "text": [
            "[[0. 0. 0. 0.]\n",
            " [0. 0. 0. 0.]\n",
            " [0. 0. 0. 0.]\n",
            " [0. 0. 0. 0.]]\n"
          ],
          "name": "stdout"
        }
      ]
    },
    {
      "cell_type": "markdown",
      "metadata": {
        "id": "ZyCpk1S8Ipxa",
        "colab_type": "text"
      },
      "source": [
        "##Testing `conv2d`\n",
        "\n",
        "####Correct shape tests:"
      ]
    },
    {
      "cell_type": "code",
      "metadata": {
        "id": "Nfq77SEeI9uP",
        "colab_type": "code",
        "outputId": "2c7e4380-98e6-44a4-945b-60eb51a1ada0",
        "colab": {
          "base_uri": "https://localhost:8080/",
          "height": 146
        }
      },
      "source": [
        "res=conv2d(np.zeros((5, 5)), np.zeros((2, 2)));\n",
        "print(res); #should be 4x4\n",
        "\n",
        "res=conv2d(np.zeros((5, 5)), np.zeros((5, 5)));\n",
        "print(res); #should be 1x1\n",
        "\n",
        "res=conv2d(np.zeros((2, 2)), np.zeros((1, 1)));\n",
        "print(res); #should be 2x2"
      ],
      "execution_count": 0,
      "outputs": [
        {
          "output_type": "stream",
          "text": [
            "[[0. 0. 0. 0.]\n",
            " [0. 0. 0. 0.]\n",
            " [0. 0. 0. 0.]\n",
            " [0. 0. 0. 0.]]\n",
            "[[0.]]\n",
            "[[0. 0.]\n",
            " [0. 0.]]\n"
          ],
          "name": "stdout"
        }
      ]
    },
    {
      "cell_type": "markdown",
      "metadata": {
        "id": "QqgpLwDvJS1G",
        "colab_type": "text"
      },
      "source": [
        "####Correctly throwing exceptions tests:"
      ]
    },
    {
      "cell_type": "code",
      "metadata": {
        "id": "vfNJGXLEJQg8",
        "colab_type": "code",
        "outputId": "b91a46aa-b1e3-4525-feb0-6a82ca465e20",
        "colab": {
          "base_uri": "https://localhost:8080/",
          "height": 301
        }
      },
      "source": [
        "conv2d(np.zeros((5, 2)), np.zeros((1, 1)));"
      ],
      "execution_count": 0,
      "outputs": [
        {
          "output_type": "error",
          "ename": "NonsquareShapeError",
          "evalue": "ignored",
          "traceback": [
            "\u001b[0;31m---------------------------------------------------------------------------\u001b[0m",
            "\u001b[0;31mNonsquareShapeError\u001b[0m                       Traceback (most recent call last)",
            "\u001b[0;32m<ipython-input-32-57f561c4c6fb>\u001b[0m in \u001b[0;36m<module>\u001b[0;34m()\u001b[0m\n\u001b[0;32m----> 1\u001b[0;31m \u001b[0mconv2d\u001b[0m\u001b[0;34m(\u001b[0m\u001b[0mnp\u001b[0m\u001b[0;34m.\u001b[0m\u001b[0mzeros\u001b[0m\u001b[0;34m(\u001b[0m\u001b[0;34m(\u001b[0m\u001b[0;36m5\u001b[0m\u001b[0;34m,\u001b[0m \u001b[0;36m2\u001b[0m\u001b[0;34m)\u001b[0m\u001b[0;34m)\u001b[0m\u001b[0;34m,\u001b[0m \u001b[0mnp\u001b[0m\u001b[0;34m.\u001b[0m\u001b[0mzeros\u001b[0m\u001b[0;34m(\u001b[0m\u001b[0;34m(\u001b[0m\u001b[0;36m1\u001b[0m\u001b[0;34m,\u001b[0m \u001b[0;36m1\u001b[0m\u001b[0;34m)\u001b[0m\u001b[0;34m)\u001b[0m\u001b[0;34m)\u001b[0m\u001b[0;34m;\u001b[0m\u001b[0;34m\u001b[0m\u001b[0;34m\u001b[0m\u001b[0m\n\u001b[0m",
            "\u001b[0;32m<ipython-input-30-089d6e5d1075>\u001b[0m in \u001b[0;36mconv2d\u001b[0;34m(input_mat, kernal_mat)\u001b[0m\n\u001b[1;32m     13\u001b[0m   \u001b[0;32mif\u001b[0m \u001b[0minput_shape\u001b[0m\u001b[0;34m[\u001b[0m\u001b[0;36m0\u001b[0m\u001b[0;34m]\u001b[0m \u001b[0;34m!=\u001b[0m \u001b[0minput_shape\u001b[0m\u001b[0;34m[\u001b[0m\u001b[0;36m1\u001b[0m\u001b[0;34m]\u001b[0m\u001b[0;34m:\u001b[0m\u001b[0;34m\u001b[0m\u001b[0;34m\u001b[0m\u001b[0m\n\u001b[1;32m     14\u001b[0m     raise NonsquareShapeError(\"The input matrix isn't square as specified in \" +\n\u001b[0;32m---> 15\u001b[0;31m     \"the assignment!\");\n\u001b[0m\u001b[1;32m     16\u001b[0m   \u001b[0;32mif\u001b[0m \u001b[0mkernal_shape\u001b[0m\u001b[0;34m[\u001b[0m\u001b[0;36m0\u001b[0m\u001b[0;34m]\u001b[0m \u001b[0;34m!=\u001b[0m \u001b[0mkernal_shape\u001b[0m\u001b[0;34m[\u001b[0m\u001b[0;36m1\u001b[0m\u001b[0;34m]\u001b[0m\u001b[0;34m:\u001b[0m\u001b[0;34m\u001b[0m\u001b[0;34m\u001b[0m\u001b[0m\n\u001b[1;32m     17\u001b[0m     raise NonsquareShapeError(\"The kernal matrix isn't square as specified in \"+\n",
            "\u001b[0;31mNonsquareShapeError\u001b[0m: The input matrix isn't square as specified in the assignment!"
          ]
        }
      ]
    },
    {
      "cell_type": "code",
      "metadata": {
        "id": "rGDS_3z8JhQC",
        "colab_type": "code",
        "outputId": "8956e676-5e9a-4440-eaeb-1796b0ee50f2",
        "colab": {
          "base_uri": "https://localhost:8080/",
          "height": 301
        }
      },
      "source": [
        "conv2d(np.zeros((2, 2)), np.zeros((1, 2)));"
      ],
      "execution_count": 0,
      "outputs": [
        {
          "output_type": "error",
          "ename": "NonsquareShapeError",
          "evalue": "ignored",
          "traceback": [
            "\u001b[0;31m---------------------------------------------------------------------------\u001b[0m",
            "\u001b[0;31mNonsquareShapeError\u001b[0m                       Traceback (most recent call last)",
            "\u001b[0;32m<ipython-input-33-5c8bcf06aad2>\u001b[0m in \u001b[0;36m<module>\u001b[0;34m()\u001b[0m\n\u001b[0;32m----> 1\u001b[0;31m \u001b[0mconv2d\u001b[0m\u001b[0;34m(\u001b[0m\u001b[0mnp\u001b[0m\u001b[0;34m.\u001b[0m\u001b[0mzeros\u001b[0m\u001b[0;34m(\u001b[0m\u001b[0;34m(\u001b[0m\u001b[0;36m2\u001b[0m\u001b[0;34m,\u001b[0m \u001b[0;36m2\u001b[0m\u001b[0;34m)\u001b[0m\u001b[0;34m)\u001b[0m\u001b[0;34m,\u001b[0m \u001b[0mnp\u001b[0m\u001b[0;34m.\u001b[0m\u001b[0mzeros\u001b[0m\u001b[0;34m(\u001b[0m\u001b[0;34m(\u001b[0m\u001b[0;36m1\u001b[0m\u001b[0;34m,\u001b[0m \u001b[0;36m2\u001b[0m\u001b[0;34m)\u001b[0m\u001b[0;34m)\u001b[0m\u001b[0;34m)\u001b[0m\u001b[0;34m;\u001b[0m\u001b[0;34m\u001b[0m\u001b[0;34m\u001b[0m\u001b[0m\n\u001b[0m",
            "\u001b[0;32m<ipython-input-30-089d6e5d1075>\u001b[0m in \u001b[0;36mconv2d\u001b[0;34m(input_mat, kernal_mat)\u001b[0m\n\u001b[1;32m     16\u001b[0m   \u001b[0;32mif\u001b[0m \u001b[0mkernal_shape\u001b[0m\u001b[0;34m[\u001b[0m\u001b[0;36m0\u001b[0m\u001b[0;34m]\u001b[0m \u001b[0;34m!=\u001b[0m \u001b[0mkernal_shape\u001b[0m\u001b[0;34m[\u001b[0m\u001b[0;36m1\u001b[0m\u001b[0;34m]\u001b[0m\u001b[0;34m:\u001b[0m\u001b[0;34m\u001b[0m\u001b[0;34m\u001b[0m\u001b[0m\n\u001b[1;32m     17\u001b[0m     raise NonsquareShapeError(\"The kernal matrix isn't square as specified in \"+\n\u001b[0;32m---> 18\u001b[0;31m     \"the assignment!\");\n\u001b[0m\u001b[1;32m     19\u001b[0m   \u001b[0;32mif\u001b[0m \u001b[0;34m(\u001b[0m\u001b[0minput_shape\u001b[0m\u001b[0;34m[\u001b[0m\u001b[0;36m0\u001b[0m\u001b[0;34m]\u001b[0m\u001b[0;34m<\u001b[0m\u001b[0mkernal_shape\u001b[0m\u001b[0;34m[\u001b[0m\u001b[0;36m0\u001b[0m\u001b[0;34m]\u001b[0m\u001b[0;34m)\u001b[0m\u001b[0;34m:\u001b[0m\u001b[0;34m\u001b[0m\u001b[0;34m\u001b[0m\u001b[0m\n\u001b[1;32m     20\u001b[0m     raise KernalTooBigError(\"The size of the kernal is larger than the size \"+\n",
            "\u001b[0;31mNonsquareShapeError\u001b[0m: The kernal matrix isn't square as specified in the assignment!"
          ]
        }
      ]
    },
    {
      "cell_type": "code",
      "metadata": {
        "id": "jolRqIHwJlnu",
        "colab_type": "code",
        "outputId": "6b02a22b-4bcf-4952-a35e-201e57c4b694",
        "colab": {
          "base_uri": "https://localhost:8080/",
          "height": 301
        }
      },
      "source": [
        "conv2d(np.zeros((2, 2)), np.zeros((3, 3)));"
      ],
      "execution_count": 0,
      "outputs": [
        {
          "output_type": "error",
          "ename": "KernalTooBigError",
          "evalue": "ignored",
          "traceback": [
            "\u001b[0;31m---------------------------------------------------------------------------\u001b[0m",
            "\u001b[0;31mKernalTooBigError\u001b[0m                         Traceback (most recent call last)",
            "\u001b[0;32m<ipython-input-34-3c8f2d696367>\u001b[0m in \u001b[0;36m<module>\u001b[0;34m()\u001b[0m\n\u001b[0;32m----> 1\u001b[0;31m \u001b[0mconv2d\u001b[0m\u001b[0;34m(\u001b[0m\u001b[0mnp\u001b[0m\u001b[0;34m.\u001b[0m\u001b[0mzeros\u001b[0m\u001b[0;34m(\u001b[0m\u001b[0;34m(\u001b[0m\u001b[0;36m2\u001b[0m\u001b[0;34m,\u001b[0m \u001b[0;36m2\u001b[0m\u001b[0;34m)\u001b[0m\u001b[0;34m)\u001b[0m\u001b[0;34m,\u001b[0m \u001b[0mnp\u001b[0m\u001b[0;34m.\u001b[0m\u001b[0mzeros\u001b[0m\u001b[0;34m(\u001b[0m\u001b[0;34m(\u001b[0m\u001b[0;36m3\u001b[0m\u001b[0;34m,\u001b[0m \u001b[0;36m3\u001b[0m\u001b[0;34m)\u001b[0m\u001b[0;34m)\u001b[0m\u001b[0;34m)\u001b[0m\u001b[0;34m;\u001b[0m\u001b[0;34m\u001b[0m\u001b[0;34m\u001b[0m\u001b[0m\n\u001b[0m",
            "\u001b[0;32m<ipython-input-30-089d6e5d1075>\u001b[0m in \u001b[0;36mconv2d\u001b[0;34m(input_mat, kernal_mat)\u001b[0m\n\u001b[1;32m     20\u001b[0m     raise KernalTooBigError(\"The size of the kernal is larger than the size \"+\n\u001b[1;32m     21\u001b[0m     \u001b[0;34m\"of the the input matrix, so the kernal cannot be convolved using \"\u001b[0m\u001b[0;34m+\u001b[0m\u001b[0;34m\u001b[0m\u001b[0;34m\u001b[0m\u001b[0m\n\u001b[0;32m---> 22\u001b[0;31m     \"legal padding!\");\n\u001b[0m\u001b[1;32m     23\u001b[0m \u001b[0;34m\u001b[0m\u001b[0m\n\u001b[1;32m     24\u001b[0m   \u001b[0moutput_size\u001b[0m\u001b[0;34m=\u001b[0m\u001b[0minput_shape\u001b[0m\u001b[0;34m[\u001b[0m\u001b[0;36m0\u001b[0m\u001b[0;34m]\u001b[0m\u001b[0;34m-\u001b[0m\u001b[0mkernal_shape\u001b[0m\u001b[0;34m[\u001b[0m\u001b[0;36m0\u001b[0m\u001b[0;34m]\u001b[0m\u001b[0;34m+\u001b[0m\u001b[0;36m1\u001b[0m\u001b[0;34m;\u001b[0m\u001b[0;34m\u001b[0m\u001b[0;34m\u001b[0m\u001b[0m\n",
            "\u001b[0;31mKernalTooBigError\u001b[0m: The size of the kernal is larger than the size of the the input matrix, so the kernal cannot be convolved using legal padding!"
          ]
        }
      ]
    },
    {
      "cell_type": "markdown",
      "metadata": {
        "id": "sToRFFGnJwP0",
        "colab_type": "text"
      },
      "source": [
        "####Tests provided in assignment:"
      ]
    },
    {
      "cell_type": "code",
      "metadata": {
        "id": "2Ou9Co2zJ1FE",
        "colab_type": "code",
        "outputId": "038d2898-0014-42fc-8d54-43932020d172",
        "colab": {
          "base_uri": "https://localhost:8080/",
          "height": 705
        }
      },
      "source": [
        "# This code was copied from the `test_cases_for_problems_1_2_homework_4.ipynb`\n",
        "# document that we were provided in this class. I didn't not write this code.\n",
        "import numpy as np\n",
        "\n",
        "input_mat = []\n",
        "kernel_mat = []\n",
        "expected_mat = []\n",
        "\n",
        "# test case 1\n",
        "input_mat.append(np.array([[1, 2, 1, 2],\n",
        "                      [2, 1, 2, 1],\n",
        "                      [1, 2, 1, 2],\n",
        "                      [2, 1, 2, 1]]))\n",
        "\n",
        "kernel_mat.append(np.array([[1, 0],\n",
        "                       [0, 1]]))\n",
        "\n",
        "expected_mat.append(np.array([[2, 4, 2],\n",
        "                                [4, 2, 4],\n",
        "                                [2, 4, 2]]))\n",
        "\n",
        "# test case 2\n",
        "input_mat.append(np.array([[1, 0, 0, 0],\n",
        "                      [0, 1, 0, 0],\n",
        "                      [0, 0, 1, 0],\n",
        "                      [0, 0, 0, 1]]))\n",
        "kernel_mat.append(np.array([[1, 0], [0, 1]]))\n",
        "expected_mat.append(np.array([[2, 0, 0], [0, 2, 0], [0, 0, 2]]))\n",
        "\n",
        "\n",
        "# test case 3\n",
        "input_mat.append(np.array([[1, 0, 0, 0],\n",
        "                      [0, 1, 0, 0],\n",
        "                      [0, 0, 1, 0],\n",
        "                      [0, 0, 0, 1]]))\n",
        "kernel_mat.append(np.array([[1, -1],\n",
        "                       [-1, 0]]))\n",
        "\n",
        "expected_mat.append(np.array([[ 1, -1,  0], [-1,  1, -1],[ 0, -1,  1]]))\n",
        "\n",
        "\n",
        "# test case 4\n",
        "input_mat.append(np.array([[1, 0, 0, 0],\n",
        "                      [0, 1, 0, 0],\n",
        "                      [0, 0, 1, 0],\n",
        "                      [0, 0, 0, 1]]))\n",
        "kernel_mat.append(np.array([[1, 0, 0, 0],\n",
        "                      [0, 1, 0, 0],\n",
        "                      [0, 0, 1, 0],\n",
        "                      [0, 0, 0, 1]]))\n",
        "\n",
        "expected_mat.append(np.array([[4]]))\n",
        "\n",
        "\n",
        "# test case 5 - should either through an error, or return empty matrix\n",
        "input_mat.append(np.array([[1, -1],\n",
        "                       [-1, 0]]))\n",
        "kernel_mat.append(np.array([[1, 0, 0, 0],\n",
        "                      [0, 1, 0, 0],\n",
        "                      [0, 0, 1, 0],\n",
        "                      [0, 0, 0, 1]]))\n",
        "\n",
        "expected_mat.append([])\n",
        "\n",
        "\n",
        "\n",
        "for i in range(len(input_mat)):\n",
        "  # uncomment line for student code testing\n",
        "  output_mat = conv2d(input_mat[i], kernel_mat[i])\n",
        "\n",
        "  # uncomment lines below (and comment line above) for generating test cases.\n",
        "  # if input_mat[i].shape[0] < kernel_mat[i].shape[0]:\n",
        "  #   output_mat = []\n",
        "  # else:\n",
        "  #   output_mat = signal.convolve2d(input_mat[i], kernel_mat[i], mode='valid')\n",
        "\n",
        "  print(output_mat)\n",
        "  if np.array_equal(output_mat, expected_mat[i]):\n",
        "    print(\"Correct output!\\n\")\n",
        "  else:\n",
        "    print(\"Incorrect output!\\n\")"
      ],
      "execution_count": 0,
      "outputs": [
        {
          "output_type": "stream",
          "text": [
            "[[2. 4. 2.]\n",
            " [4. 2. 4.]\n",
            " [2. 4. 2.]]\n",
            "Correct output!\n",
            "\n",
            "[[2. 0. 0.]\n",
            " [0. 2. 0.]\n",
            " [0. 0. 2.]]\n",
            "Correct output!\n",
            "\n",
            "[[ 1. -1.  0.]\n",
            " [-1.  1. -1.]\n",
            " [ 0. -1.  1.]]\n",
            "Correct output!\n",
            "\n",
            "[[4.]]\n",
            "Correct output!\n",
            "\n"
          ],
          "name": "stdout"
        },
        {
          "output_type": "error",
          "ename": "KernalTooBigError",
          "evalue": "ignored",
          "traceback": [
            "\u001b[0;31m---------------------------------------------------------------------------\u001b[0m",
            "\u001b[0;31mKernalTooBigError\u001b[0m                         Traceback (most recent call last)",
            "\u001b[0;32m<ipython-input-36-0d783d0feb65>\u001b[0m in \u001b[0;36m<module>\u001b[0;34m()\u001b[0m\n\u001b[1;32m     65\u001b[0m \u001b[0;32mfor\u001b[0m \u001b[0mi\u001b[0m \u001b[0;32min\u001b[0m \u001b[0mrange\u001b[0m\u001b[0;34m(\u001b[0m\u001b[0mlen\u001b[0m\u001b[0;34m(\u001b[0m\u001b[0minput_mat\u001b[0m\u001b[0;34m)\u001b[0m\u001b[0;34m)\u001b[0m\u001b[0;34m:\u001b[0m\u001b[0;34m\u001b[0m\u001b[0;34m\u001b[0m\u001b[0m\n\u001b[1;32m     66\u001b[0m   \u001b[0;31m# uncomment line for student code testing\u001b[0m\u001b[0;34m\u001b[0m\u001b[0;34m\u001b[0m\u001b[0;34m\u001b[0m\u001b[0m\n\u001b[0;32m---> 67\u001b[0;31m   \u001b[0moutput_mat\u001b[0m \u001b[0;34m=\u001b[0m \u001b[0mconv2d\u001b[0m\u001b[0;34m(\u001b[0m\u001b[0minput_mat\u001b[0m\u001b[0;34m[\u001b[0m\u001b[0mi\u001b[0m\u001b[0;34m]\u001b[0m\u001b[0;34m,\u001b[0m \u001b[0mkernel_mat\u001b[0m\u001b[0;34m[\u001b[0m\u001b[0mi\u001b[0m\u001b[0;34m]\u001b[0m\u001b[0;34m)\u001b[0m\u001b[0;34m\u001b[0m\u001b[0;34m\u001b[0m\u001b[0m\n\u001b[0m\u001b[1;32m     68\u001b[0m \u001b[0;34m\u001b[0m\u001b[0m\n\u001b[1;32m     69\u001b[0m   \u001b[0;31m# uncomment lines below (and comment line above) for generating test cases.\u001b[0m\u001b[0;34m\u001b[0m\u001b[0;34m\u001b[0m\u001b[0;34m\u001b[0m\u001b[0m\n",
            "\u001b[0;32m<ipython-input-30-089d6e5d1075>\u001b[0m in \u001b[0;36mconv2d\u001b[0;34m(input_mat, kernal_mat)\u001b[0m\n\u001b[1;32m     20\u001b[0m     raise KernalTooBigError(\"The size of the kernal is larger than the size \"+\n\u001b[1;32m     21\u001b[0m     \u001b[0;34m\"of the the input matrix, so the kernal cannot be convolved using \"\u001b[0m\u001b[0;34m+\u001b[0m\u001b[0;34m\u001b[0m\u001b[0;34m\u001b[0m\u001b[0m\n\u001b[0;32m---> 22\u001b[0;31m     \"legal padding!\");\n\u001b[0m\u001b[1;32m     23\u001b[0m \u001b[0;34m\u001b[0m\u001b[0m\n\u001b[1;32m     24\u001b[0m   \u001b[0moutput_size\u001b[0m\u001b[0;34m=\u001b[0m\u001b[0minput_shape\u001b[0m\u001b[0;34m[\u001b[0m\u001b[0;36m0\u001b[0m\u001b[0;34m]\u001b[0m\u001b[0;34m-\u001b[0m\u001b[0mkernal_shape\u001b[0m\u001b[0;34m[\u001b[0m\u001b[0;36m0\u001b[0m\u001b[0;34m]\u001b[0m\u001b[0;34m+\u001b[0m\u001b[0;36m1\u001b[0m\u001b[0;34m;\u001b[0m\u001b[0;34m\u001b[0m\u001b[0;34m\u001b[0m\u001b[0m\n",
            "\u001b[0;31mKernalTooBigError\u001b[0m: The size of the kernal is larger than the size of the the input matrix, so the kernal cannot be convolved using legal padding!"
          ]
        }
      ]
    },
    {
      "cell_type": "markdown",
      "metadata": {
        "id": "UjErLpZqKgU7",
        "colab_type": "text"
      },
      "source": [
        "#Problem 2: `maxpooling2d`\n",
        "\n",
        "I have implemented `maxpooling2d` as specified in the assignment using numpy\n",
        "arrays. There aren't any cases in which my method wouldn't be able to run,\n",
        "assuming it is given input that is the correct type. If it is given illegal\n",
        "input, then it will throw exceptions in the methods I call, as intended."
      ]
    },
    {
      "cell_type": "code",
      "metadata": {
        "id": "tKZJSuPmLGEk",
        "colab_type": "code",
        "colab": {}
      },
      "source": [
        "import numpy as np\n",
        "\n",
        "class MaxPoolStrideTooSmallError(Exception):\n",
        "  pass;\n",
        "\n",
        "def maxpooling2d(input_mat, s):\n",
        "  if s<1:\n",
        "    raise MaxPoolStrideTooSmallError(\"s must be at least 1!\");\n",
        "  n = input_mat.shape[0];\n",
        "  m = input_mat.shape[1];\n",
        "  ans = np.zeros((n//s, m//s))\n",
        "  for x_block in range(ans.shape[0]):\n",
        "    for y_block in range(ans.shape[1]):\n",
        "      m = input_mat[x_block*s][y_block*s];\n",
        "      for x in range(s):\n",
        "        for y in range(s):\n",
        "          m = max(m, input_mat[x_block*s + x][y_block*s + y]);\n",
        "      ans[x_block][y_block] = m;\n",
        "  return ans;"
      ],
      "execution_count": 0,
      "outputs": []
    },
    {
      "cell_type": "markdown",
      "metadata": {
        "id": "nCcdp_9iNHoW",
        "colab_type": "text"
      },
      "source": [
        "##Testing `maxpooling2d`\n",
        "\n",
        "Correct shape tests:\n"
      ]
    },
    {
      "cell_type": "code",
      "metadata": {
        "id": "ZDCucRGvNUs8",
        "colab_type": "code",
        "outputId": "f4c839d1-2bbf-49fc-e203-d048cc40821f",
        "colab": {
          "base_uri": "https://localhost:8080/",
          "height": 146
        }
      },
      "source": [
        "res = maxpooling2d(np.zeros((5, 5)), 2);\n",
        "print(res); # 2x2\n",
        "\n",
        "res = maxpooling2d(np.zeros((4, 4)), 2);\n",
        "print(res); # 2x2\n",
        "\n",
        "res = maxpooling2d(np.zeros((3, 3)), 2);\n",
        "print(res); # 1x1\n",
        "\n",
        "res = maxpooling2d(np.zeros((2, 2)), 2);\n",
        "print(res); # 1x1\n",
        "\n",
        "res = maxpooling2d(np.zeros((1, 1)), 2);\n",
        "print(res); # 0x0"
      ],
      "execution_count": 0,
      "outputs": [
        {
          "output_type": "stream",
          "text": [
            "[[0. 0.]\n",
            " [0. 0.]]\n",
            "[[0. 0.]\n",
            " [0. 0.]]\n",
            "[[0.]]\n",
            "[[0.]]\n",
            "[]\n"
          ],
          "name": "stdout"
        }
      ]
    },
    {
      "cell_type": "markdown",
      "metadata": {
        "id": "P_PE8iskNsHe",
        "colab_type": "text"
      },
      "source": [
        "####Throwing correct exceptions test"
      ]
    },
    {
      "cell_type": "code",
      "metadata": {
        "id": "vEd_8P4vNx5g",
        "colab_type": "code",
        "outputId": "3d13a420-c34b-4cf0-da57-f40f364a58c0",
        "colab": {
          "base_uri": "https://localhost:8080/",
          "height": 301
        }
      },
      "source": [
        "maxpooling2d(np.zeros((5, 5)), 0);"
      ],
      "execution_count": 0,
      "outputs": [
        {
          "output_type": "error",
          "ename": "MaxPoolStrideTooSmallError",
          "evalue": "ignored",
          "traceback": [
            "\u001b[0;31m---------------------------------------------------------------------------\u001b[0m",
            "\u001b[0;31mMaxPoolStrideTooSmallError\u001b[0m                Traceback (most recent call last)",
            "\u001b[0;32m<ipython-input-53-3b0da42813da>\u001b[0m in \u001b[0;36m<module>\u001b[0;34m()\u001b[0m\n\u001b[0;32m----> 1\u001b[0;31m \u001b[0mmaxpooling2d\u001b[0m\u001b[0;34m(\u001b[0m\u001b[0mnp\u001b[0m\u001b[0;34m.\u001b[0m\u001b[0mzeros\u001b[0m\u001b[0;34m(\u001b[0m\u001b[0;34m(\u001b[0m\u001b[0;36m5\u001b[0m\u001b[0;34m,\u001b[0m \u001b[0;36m5\u001b[0m\u001b[0;34m)\u001b[0m\u001b[0;34m)\u001b[0m\u001b[0;34m,\u001b[0m \u001b[0;36m0\u001b[0m\u001b[0;34m)\u001b[0m\u001b[0;34m;\u001b[0m\u001b[0;34m\u001b[0m\u001b[0;34m\u001b[0m\u001b[0m\n\u001b[0m",
            "\u001b[0;32m<ipython-input-50-e02046e41bcc>\u001b[0m in \u001b[0;36mmaxpooling2d\u001b[0;34m(input_mat, s)\u001b[0m\n\u001b[1;32m      6\u001b[0m \u001b[0;32mdef\u001b[0m \u001b[0mmaxpooling2d\u001b[0m\u001b[0;34m(\u001b[0m\u001b[0minput_mat\u001b[0m\u001b[0;34m,\u001b[0m \u001b[0ms\u001b[0m\u001b[0;34m)\u001b[0m\u001b[0;34m:\u001b[0m\u001b[0;34m\u001b[0m\u001b[0;34m\u001b[0m\u001b[0m\n\u001b[1;32m      7\u001b[0m   \u001b[0;32mif\u001b[0m \u001b[0ms\u001b[0m\u001b[0;34m<\u001b[0m\u001b[0;36m1\u001b[0m\u001b[0;34m:\u001b[0m\u001b[0;34m\u001b[0m\u001b[0;34m\u001b[0m\u001b[0m\n\u001b[0;32m----> 8\u001b[0;31m     \u001b[0;32mraise\u001b[0m \u001b[0mMaxPoolStrideTooSmallError\u001b[0m\u001b[0;34m(\u001b[0m\u001b[0;34m\"s must be at least 1!\"\u001b[0m\u001b[0;34m)\u001b[0m\u001b[0;34m;\u001b[0m\u001b[0;34m\u001b[0m\u001b[0;34m\u001b[0m\u001b[0m\n\u001b[0m\u001b[1;32m      9\u001b[0m   \u001b[0mn\u001b[0m \u001b[0;34m=\u001b[0m \u001b[0minput_mat\u001b[0m\u001b[0;34m.\u001b[0m\u001b[0mshape\u001b[0m\u001b[0;34m[\u001b[0m\u001b[0;36m0\u001b[0m\u001b[0;34m]\u001b[0m\u001b[0;34m;\u001b[0m\u001b[0;34m\u001b[0m\u001b[0;34m\u001b[0m\u001b[0m\n\u001b[1;32m     10\u001b[0m   \u001b[0mm\u001b[0m \u001b[0;34m=\u001b[0m \u001b[0minput_mat\u001b[0m\u001b[0;34m.\u001b[0m\u001b[0mshape\u001b[0m\u001b[0;34m[\u001b[0m\u001b[0;36m1\u001b[0m\u001b[0;34m]\u001b[0m\u001b[0;34m;\u001b[0m\u001b[0;34m\u001b[0m\u001b[0;34m\u001b[0m\u001b[0m\n",
            "\u001b[0;31mMaxPoolStrideTooSmallError\u001b[0m: s must be at least 1!"
          ]
        }
      ]
    },
    {
      "cell_type": "markdown",
      "metadata": {
        "id": "_9-sdk1pN33k",
        "colab_type": "text"
      },
      "source": [
        "####Tests provided in assignment"
      ]
    },
    {
      "cell_type": "code",
      "metadata": {
        "id": "YYQO7YLdN7hM",
        "colab_type": "code",
        "outputId": "192ca3a1-a793-459a-f38f-535df8c3b42e",
        "colab": {
          "base_uri": "https://localhost:8080/",
          "height": 146
        }
      },
      "source": [
        "# This code was copied from the `test_cases_for_problems_1_2_homework_4.ipynb`\n",
        "# document that we were provided in this class. I didn't not write this code.\n",
        "import skimage.measure\n",
        "\n",
        "input_mat = []\n",
        "expected_mat = []\n",
        "s = []\n",
        "input_mat.append(np.array([[1, 2, 1, 2],\n",
        "                      [2, 4, 2, 1],\n",
        "                      [1, 2, 4, 2],\n",
        "                      [2, 1, 2, 1]]))\n",
        "s.append(2)\n",
        "\n",
        "expected_mat.append(np.array([[4, 2],\n",
        "                                [2, 4]]))\n",
        "\n",
        "input_mat.append(np.array([[1, 2, 1, 2, 4, 5],\n",
        "                      [2, 4, 2, 1, 0, 3],\n",
        "                      [1, 2, 4, 2, 4, 5],\n",
        "                      [2, 1, 2, 1, 2, 1],\n",
        "                      [1, 1, 2, 3, 1, 2],\n",
        "                      [1, 1, 2, 3, 1, 2]]))\n",
        "s.append(2)\n",
        "\n",
        "expected_mat.append([[4, 2, 5],\n",
        " [2, 4, 5],\n",
        " [1, 3, 2]])\n",
        "\n",
        "\n",
        "for i in range(len(input_mat)):\n",
        "  # uncomment top line and comment second line to test code\n",
        "  output_mat = maxpooling2d(input_mat[i], s[i])\n",
        "  # output_mat = skimage.measure.block_reduce(input_mat[i], (s[i],s[i]), np.max)\n",
        "\n",
        "  print(output_mat)\n",
        "\n",
        "  if np.array_equal(output_mat, expected_mat[i]):\n",
        "    print(\"Correct output!\")\n",
        "  else:\n",
        "    print(\"Incorrect output!\")\n",
        "    print(expected_mat[i]);"
      ],
      "execution_count": 0,
      "outputs": [
        {
          "output_type": "stream",
          "text": [
            "[[4. 2.]\n",
            " [2. 4.]]\n",
            "Correct output!\n",
            "[[4. 2. 5.]\n",
            " [2. 4. 5.]\n",
            " [1. 3. 2.]]\n",
            "Correct output!\n"
          ],
          "name": "stdout"
        }
      ]
    },
    {
      "cell_type": "markdown",
      "metadata": {
        "id": "fJvopzNmOoZ-",
        "colab_type": "text"
      },
      "source": [
        "#Problem 3: Adapting a pre-trained nueral net\n",
        "\n"
      ]
    },
    {
      "cell_type": "markdown",
      "metadata": {
        "id": "J2WbRuWxScxe",
        "colab_type": "text"
      },
      "source": [
        "I created two new notebooks for this, as specified in the assignment. In both examples, I used ResNet50V2 (I chose this because I read about it somewhere and a research team was quite impressed with its performance), with two different classifiers, on per notebook. You can see those here:\n",
        "- https://colab.research.google.com/drive/1MKxbgjdhakmg0YfyG8JLEtZDXhsm78_0\n",
        "- https://colab.research.google.com/drive/112Gxmbi4lMY5rERv0kkkPTdwr66-fDBk\n"
      ]
    }
  ]
}