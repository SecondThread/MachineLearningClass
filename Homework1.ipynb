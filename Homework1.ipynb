{
  "nbformat": 4,
  "nbformat_minor": 0,
  "metadata": {
    "colab": {
      "name": "Homework1.ipynb",
      "provenance": [],
      "collapsed_sections": [],
      "authorship_tag": "ABX9TyNmc+Z6dUW1TdJ22U6zhuCe",
      "include_colab_link": true
    },
    "kernelspec": {
      "name": "python3",
      "display_name": "Python 3"
    },
    "accelerator": "GPU"
  },
  "cells": [
    {
      "cell_type": "markdown",
      "metadata": {
        "id": "view-in-github",
        "colab_type": "text"
      },
      "source": [
        "<a href=\"https://colab.research.google.com/github/SecondThread/MachineLearningClass/blob/master/Homework1.ipynb\" target=\"_parent\"><img src=\"https://colab.research.google.com/assets/colab-badge.svg\" alt=\"Open In Colab\"/></a>"
      ]
    },
    {
      "cell_type": "markdown",
      "metadata": {
        "id": "gROPj73QtASf",
        "colab_type": "text"
      },
      "source": [
        "This program multiplies a list of matricies and returns the product. For example, for the input [$M_1$, $M_2$, $M_3$ ...], the method `multiply_matricies` will first multiply $M_1$ and $M_2$, then multiply the result of that by $M_3$, and so on.\n",
        "\n",
        "The program will throw an `IncompatibleMatriciesError` if there are any two adjacent matrcies on the list $M_i$ and $M_{i+1}$ where $i < n$ such that the `nColumns` of $M_i$ $\\neq$ `nRows` of $M_{i+1}$."
      ]
    },
    {
      "cell_type": "markdown",
      "metadata": {
        "id": "zRj6Eyt80OFy",
        "colab_type": "text"
      },
      "source": [
        "#Sample Behavior\n",
        "\n",
        "This demonstrates a simple testcase with non-square matricies showing that the method works as expected."
      ]
    },
    {
      "cell_type": "code",
      "metadata": {
        "id": "mBEqp_wwaEKL",
        "colab_type": "code",
        "colab": {
          "base_uri": "https://localhost:8080/",
          "height": 91
        },
        "outputId": "685b416a-7bca-41e1-fb34-9c281cbe832a"
      },
      "source": [
        "import numpy as np;\n",
        "\n",
        "class IncompatableMatriciesError(Exception):\n",
        "  def __init__(self, errorMessage):\n",
        "    self.strerror = errorMessage;\n",
        "\n",
        "def multiply_matricies(matricies):\n",
        "  curMat=matricies[0];\n",
        "  for i in range(1, len(matricies)):\n",
        "    if curMat.shape[1] != matricies[i].shape[0]:\n",
        "      raise IncompatableMatriciesError(\"Cannot multiply matricies at indecies \"+str(i-1)+\" and \"+str(i)+\" because their sizes are incompatible.\")\n",
        "    \n",
        "    #otherwise multiply them\n",
        "    curMat = np.dot(curMat, matricies[i]);\n",
        "  \n",
        "  return curMat;\n",
        "\n",
        "#mat1=np.mat(\"1 2; 3 4\");\n",
        "#mat2=np.mat(\"5 5; 5 5\");\n",
        "#mat2=np.mat(\"1\");\n",
        "mat1=np.mat(\"5 -1; 7 0; 2 12\");\n",
        "mat2=np.mat(\"1;6\");\n",
        "\n",
        "product=multiply_matricies([mat1, mat2]);\n",
        "print(\"Product is: \");\n",
        "print(product);"
      ],
      "execution_count": 4,
      "outputs": [
        {
          "output_type": "stream",
          "text": [
            "Product is: \n",
            "[[-1]\n",
            " [ 7]\n",
            " [74]]\n"
          ],
          "name": "stdout"
        }
      ]
    },
    {
      "cell_type": "markdown",
      "metadata": {
        "id": "v7pI7VBH0GWj",
        "colab_type": "text"
      },
      "source": [
        "#Crashing\n",
        "Below is code that demonstrates the code throwing the error as expected."
      ]
    },
    {
      "cell_type": "code",
      "metadata": {
        "id": "R-CJlVIpz6Ps",
        "colab_type": "code",
        "colab": {
          "base_uri": "https://localhost:8080/",
          "height": 342
        },
        "outputId": "21aa26b4-d0c6-4c77-ed13-16985dbd7974"
      },
      "source": [
        "mat1=np.mat(\"1 2; 3 4\");\n",
        "mat2=np.mat(\"1\");\n",
        "product=multiply_matricies([mat1, mat2]);"
      ],
      "execution_count": 7,
      "outputs": [
        {
          "output_type": "error",
          "ename": "IncompatableMatriciesError",
          "evalue": "ignored",
          "traceback": [
            "\u001b[0;31m---------------------------------------------------------------------------\u001b[0m",
            "\u001b[0;31mIncompatableMatriciesError\u001b[0m                Traceback (most recent call last)",
            "\u001b[0;32m<ipython-input-7-b76bd49db313>\u001b[0m in \u001b[0;36m<module>\u001b[0;34m()\u001b[0m\n\u001b[1;32m      1\u001b[0m \u001b[0mmat1\u001b[0m\u001b[0;34m=\u001b[0m\u001b[0mnp\u001b[0m\u001b[0;34m.\u001b[0m\u001b[0mmat\u001b[0m\u001b[0;34m(\u001b[0m\u001b[0;34m\"1 2; 3 4\"\u001b[0m\u001b[0;34m)\u001b[0m\u001b[0;34m;\u001b[0m\u001b[0;34m\u001b[0m\u001b[0;34m\u001b[0m\u001b[0m\n\u001b[1;32m      2\u001b[0m \u001b[0mmat2\u001b[0m\u001b[0;34m=\u001b[0m\u001b[0mnp\u001b[0m\u001b[0;34m.\u001b[0m\u001b[0mmat\u001b[0m\u001b[0;34m(\u001b[0m\u001b[0;34m\"1\"\u001b[0m\u001b[0;34m)\u001b[0m\u001b[0;34m;\u001b[0m\u001b[0;34m\u001b[0m\u001b[0;34m\u001b[0m\u001b[0m\n\u001b[0;32m----> 3\u001b[0;31m \u001b[0mproduct\u001b[0m\u001b[0;34m=\u001b[0m\u001b[0mmultiply_matricies\u001b[0m\u001b[0;34m(\u001b[0m\u001b[0;34m[\u001b[0m\u001b[0mmat1\u001b[0m\u001b[0;34m,\u001b[0m \u001b[0mmat2\u001b[0m\u001b[0;34m]\u001b[0m\u001b[0;34m)\u001b[0m\u001b[0;34m;\u001b[0m\u001b[0;34m\u001b[0m\u001b[0;34m\u001b[0m\u001b[0m\n\u001b[0m",
            "\u001b[0;32m<ipython-input-4-7aec808549fd>\u001b[0m in \u001b[0;36mmultiply_matricies\u001b[0;34m(matricies)\u001b[0m\n\u001b[1;32m      9\u001b[0m   \u001b[0;32mfor\u001b[0m \u001b[0mi\u001b[0m \u001b[0;32min\u001b[0m \u001b[0mrange\u001b[0m\u001b[0;34m(\u001b[0m\u001b[0;36m1\u001b[0m\u001b[0;34m,\u001b[0m \u001b[0mlen\u001b[0m\u001b[0;34m(\u001b[0m\u001b[0mmatricies\u001b[0m\u001b[0;34m)\u001b[0m\u001b[0;34m)\u001b[0m\u001b[0;34m:\u001b[0m\u001b[0;34m\u001b[0m\u001b[0;34m\u001b[0m\u001b[0m\n\u001b[1;32m     10\u001b[0m     \u001b[0;32mif\u001b[0m \u001b[0mcurMat\u001b[0m\u001b[0;34m.\u001b[0m\u001b[0mshape\u001b[0m\u001b[0;34m[\u001b[0m\u001b[0;36m1\u001b[0m\u001b[0;34m]\u001b[0m \u001b[0;34m!=\u001b[0m \u001b[0mmatricies\u001b[0m\u001b[0;34m[\u001b[0m\u001b[0mi\u001b[0m\u001b[0;34m]\u001b[0m\u001b[0;34m.\u001b[0m\u001b[0mshape\u001b[0m\u001b[0;34m[\u001b[0m\u001b[0;36m0\u001b[0m\u001b[0;34m]\u001b[0m\u001b[0;34m:\u001b[0m\u001b[0;34m\u001b[0m\u001b[0;34m\u001b[0m\u001b[0m\n\u001b[0;32m---> 11\u001b[0;31m       \u001b[0;32mraise\u001b[0m \u001b[0mIncompatableMatriciesError\u001b[0m\u001b[0;34m(\u001b[0m\u001b[0;34m\"Cannot multiply matricies at indecies \"\u001b[0m\u001b[0;34m+\u001b[0m\u001b[0mstr\u001b[0m\u001b[0;34m(\u001b[0m\u001b[0mi\u001b[0m\u001b[0;34m-\u001b[0m\u001b[0;36m1\u001b[0m\u001b[0;34m)\u001b[0m\u001b[0;34m+\u001b[0m\u001b[0;34m\" and \"\u001b[0m\u001b[0;34m+\u001b[0m\u001b[0mstr\u001b[0m\u001b[0;34m(\u001b[0m\u001b[0mi\u001b[0m\u001b[0;34m)\u001b[0m\u001b[0;34m+\u001b[0m\u001b[0;34m\" because their sizes are incompatible.\"\u001b[0m\u001b[0;34m)\u001b[0m\u001b[0;34m\u001b[0m\u001b[0;34m\u001b[0m\u001b[0m\n\u001b[0m\u001b[1;32m     12\u001b[0m \u001b[0;34m\u001b[0m\u001b[0m\n\u001b[1;32m     13\u001b[0m     \u001b[0;31m#otherwise multiply them\u001b[0m\u001b[0;34m\u001b[0m\u001b[0;34m\u001b[0m\u001b[0;34m\u001b[0m\u001b[0m\n",
            "\u001b[0;31mIncompatableMatriciesError\u001b[0m: Cannot multiply matricies at indecies 0 and 1 because their sizes are incompatible."
          ]
        }
      ]
    }
  ]
}